{
 "cells": [
  {
   "cell_type": "markdown",
   "id": "0c2af569",
   "metadata": {},
   "source": [
    "# text 데이터 target 변환 모델"
   ]
  },
  {
   "cell_type": "code",
   "execution_count": 1,
   "id": "a31e2866",
   "metadata": {},
   "outputs": [
    {
     "data": {
      "text/html": [
       "<div>\n",
       "<style scoped>\n",
       "    .dataframe tbody tr th:only-of-type {\n",
       "        vertical-align: middle;\n",
       "    }\n",
       "\n",
       "    .dataframe tbody tr th {\n",
       "        vertical-align: top;\n",
       "    }\n",
       "\n",
       "    .dataframe thead th {\n",
       "        text-align: right;\n",
       "    }\n",
       "</style>\n",
       "<table border=\"1\" class=\"dataframe\">\n",
       "  <thead>\n",
       "    <tr style=\"text-align: right;\">\n",
       "      <th></th>\n",
       "      <th>// target 번호 오름차순 시키면 안됌 !</th>\n",
       "      <th>target</th>\n",
       "    </tr>\n",
       "  </thead>\n",
       "  <tbody>\n",
       "    <tr>\n",
       "      <th>NaN</th>\n",
       "      <td>text</td>\n",
       "      <td>NaN</td>\n",
       "    </tr>\n",
       "    <tr>\n",
       "      <th>0.0</th>\n",
       "      <td>돈 넣어 둘 곳이 필요해요</td>\n",
       "      <td>4.0</td>\n",
       "    </tr>\n",
       "    <tr>\n",
       "      <th>1.0</th>\n",
       "      <td>돈 좀 어디 넣어두고 싶어서요</td>\n",
       "      <td>4.0</td>\n",
       "    </tr>\n",
       "    <tr>\n",
       "      <th>2.0</th>\n",
       "      <td>계좌 하나만 파주시게</td>\n",
       "      <td>4.0</td>\n",
       "    </tr>\n",
       "    <tr>\n",
       "      <th>3.0</th>\n",
       "      <td>통장을 하나 만들고 싶다</td>\n",
       "      <td>4.0</td>\n",
       "    </tr>\n",
       "    <tr>\n",
       "      <th>...</th>\n",
       "      <td>...</td>\n",
       "      <td>...</td>\n",
       "    </tr>\n",
       "    <tr>\n",
       "      <th>1949.0</th>\n",
       "      <td>카드발급을 해주소</td>\n",
       "      <td>5.0</td>\n",
       "    </tr>\n",
       "    <tr>\n",
       "      <th>1950.0</th>\n",
       "      <td>출금을 해주소</td>\n",
       "      <td>6.0</td>\n",
       "    </tr>\n",
       "    <tr>\n",
       "      <th>1951.0</th>\n",
       "      <td>상품소개를 해주소</td>\n",
       "      <td>7.0</td>\n",
       "    </tr>\n",
       "    <tr>\n",
       "      <th>1952.0</th>\n",
       "      <td>감사합니다</td>\n",
       "      <td>7.0</td>\n",
       "    </tr>\n",
       "    <tr>\n",
       "      <th>1953.0</th>\n",
       "      <td>고맙습니다</td>\n",
       "      <td>7.0</td>\n",
       "    </tr>\n",
       "  </tbody>\n",
       "</table>\n",
       "<p>1955 rows × 2 columns</p>\n",
       "</div>"
      ],
      "text/plain": [
       "       // target 번호 오름차순 시키면 안됌 !  target\n",
       "NaN                          text     NaN\n",
       "0.0                돈 넣어 둘 곳이 필요해요     4.0\n",
       "1.0              돈 좀 어디 넣어두고 싶어서요     4.0\n",
       "2.0                   계좌 하나만 파주시게     4.0\n",
       "3.0                 통장을 하나 만들고 싶다     4.0\n",
       "...                           ...     ...\n",
       "1949.0                  카드발급을 해주소     5.0\n",
       "1950.0                    출금을 해주소     6.0\n",
       "1951.0                  상품소개를 해주소     7.0\n",
       "1952.0                      감사합니다     7.0\n",
       "1953.0                      고맙습니다     7.0\n",
       "\n",
       "[1955 rows x 2 columns]"
      ]
     },
     "execution_count": 1,
     "metadata": {},
     "output_type": "execute_result"
    }
   ],
   "source": [
    "import pandas as pd\n",
    "\n",
    "total_data = pd.read_csv('https://docs.google.com/spreadsheets/d/1BJe5Q9-dU11Jl_4z8D5-j0rNLwGf2O-cC_ysOgBkfbc/gviz/tq?tqx=out:csv&sheet=Text_Dataset',  skiprows=, index_col=0)\n",
    "df = total_data.iloc[:, :2]\n",
    "df.rename(columns={df.columns[1]:'target'}, inplace=True)\n",
    "df"
   ]
  },
  {
   "cell_type": "code",
   "execution_count": 2,
   "id": "f457945d",
   "metadata": {},
   "outputs": [
    {
     "name": "stdout",
     "output_type": "stream",
     "text": [
      "<class 'pandas.core.frame.DataFrame'>\n",
      "Float64Index: 1955 entries, nan to 1953.0\n",
      "Data columns (total 2 columns):\n",
      " #   Column                      Non-Null Count  Dtype  \n",
      "---  ------                      --------------  -----  \n",
      " 0   // target 번호 오름차순 시키면 안됌 !  1955 non-null   object \n",
      " 1   target                      1954 non-null   float64\n",
      "dtypes: float64(1), object(1)\n",
      "memory usage: 45.8+ KB\n"
     ]
    }
   ],
   "source": [
    "df.info()"
   ]
  },
  {
   "cell_type": "code",
   "execution_count": 3,
   "id": "4987fe6d",
   "metadata": {},
   "outputs": [
    {
     "data": {
      "text/plain": [
       "// target 번호 오름차순 시키면 안됌 !    0\n",
       "target                        1\n",
       "dtype: int64"
      ]
     },
     "execution_count": 3,
     "metadata": {},
     "output_type": "execute_result"
    }
   ],
   "source": [
    "df.isna().sum()"
   ]
  },
  {
   "cell_type": "code",
   "execution_count": 4,
   "id": "44962ed4",
   "metadata": {},
   "outputs": [
    {
     "data": {
      "text/plain": [
       "(1955, 2)"
      ]
     },
     "execution_count": 4,
     "metadata": {},
     "output_type": "execute_result"
    }
   ],
   "source": [
    "df.shape"
   ]
  },
  {
   "cell_type": "code",
   "execution_count": 5,
   "id": "ddbd2b31",
   "metadata": {},
   "outputs": [
    {
     "data": {
      "text/plain": [
       "[nan, 0.0, 1.0, 2.0, 3.0, 4.0, 5.0, 6.0, 7.0]"
      ]
     },
     "execution_count": 5,
     "metadata": {},
     "output_type": "execute_result"
    }
   ],
   "source": [
    "sorted(df['target'].unique())"
   ]
  },
  {
   "cell_type": "code",
   "execution_count": 6,
   "id": "db3d7e4c",
   "metadata": {},
   "outputs": [
    {
     "name": "stdout",
     "output_type": "stream",
     "text": [
      "결측치가 있는 컬럼은: target 입니다\n",
      "해당 컬럼에 총 1 개의 결측치가 존재합니다.\n"
     ]
    }
   ],
   "source": [
    "def check_missing_col(dataframe):\n",
    "    missing_col = []\n",
    "    for col in dataframe.columns:\n",
    "        missing_values = sum(dataframe[col].isna())\n",
    "        is_missing = True if missing_values >= 1 else False\n",
    "        if is_missing:\n",
    "            print(f'결측치가 있는 컬럼은: {col} 입니다')\n",
    "            print(f'해당 컬럼에 총 {missing_values} 개의 결측치가 존재합니다.')\n",
    "            missing_col.append([col, dataframe[col].dtype])\n",
    "    if missing_col == []:\n",
    "        print('결측치가 존재하지 않습니다')\n",
    "    return missing_col\n",
    "\n",
    "missing_col = check_missing_col(df)"
   ]
  },
  {
   "cell_type": "code",
   "execution_count": 7,
   "id": "0f451352",
   "metadata": {},
   "outputs": [],
   "source": [
    "# import re \n",
    "\n",
    "# def clean_text(texts): \n",
    "#   corpus = [] \n",
    "#   for i in range(0, len(texts)): \n",
    "#     review = re.sub(r'\\s+', ' ', texts[i]) #extra space 제거\n",
    "#     review = re.sub(r'\\s+', ' ', review) #spaces 제거\n",
    "#     review = re.sub(r\"^\\s+\", '', review) #space from start 제거\n",
    "#     review = re.sub(r'\\s+$', '', review) #space from the end 제거\n",
    "#     review = re.sub(r'_', ' ', review) #space from the end 제거\n",
    "#     corpus.append(review) \n",
    "  \n",
    "#   return corpus\n",
    "\n",
    "# #     review = re.sub(r'[@%\\\\*=()/~#&\\+á?\\xc3\\xa1\\-\\|\\.\\:\\;\\!\\-\\,\\_\\~\\$\\'\\\"\\n\\]\\[\\>]', '',texts[i]) #@%*=()/+ 와 같은 문장부호 제거\n",
    "# #     review = re.sub(r'\\d+','', review)#숫자 제거\n",
    "# #     review = review.lower() #소문자 변환\n",
    "# #     review = re.sub(r'<[^>]+>','',review) #Html tags 제거"
   ]
  },
  {
   "cell_type": "code",
   "execution_count": 8,
   "id": "7560b0ad",
   "metadata": {},
   "outputs": [],
   "source": [
    "# temp = clean_text(df['text']) #메소드 적용\n",
    "# df['text'] = temp\n",
    "# df.head()"
   ]
  },
  {
   "cell_type": "markdown",
   "id": "b98ed77f",
   "metadata": {},
   "source": [
    "# EDA\n",
    "\n",
    "### 말뭉치 전처리"
   ]
  },
  {
   "cell_type": "code",
   "execution_count": 9,
   "id": "3518b844",
   "metadata": {},
   "outputs": [
    {
     "name": "stdout",
     "output_type": "stream",
     "text": [
      "라벨 0인 리뷰 개수: 207\n",
      "라벨 1인 리뷰 개수: 264\n",
      "라벨 2인 리뷰 개수: 232\n",
      "라벨 3인 리뷰 개수: 193\n",
      "라벨 4인 리뷰 개수: 453\n",
      "라벨 5인 리뷰 개수: 326\n",
      "라벨 6인 리뷰 개수: 214\n"
     ]
    }
   ],
   "source": [
    "val_count = df['target'].value_counts() # 유니크값의 개수를 확인합니다.\n",
    "\n",
    "for i in range(0,7):\n",
    "  print(f'라벨 {i}인 리뷰 개수:', val_count[i])"
   ]
  },
  {
   "cell_type": "markdown",
   "id": "657aa594",
   "metadata": {},
   "source": [
    "#### plot 함수를 이용해 label 개수를 그래프로 그려 시각적으로 비교"
   ]
  },
  {
   "cell_type": "code",
   "execution_count": 10,
   "id": "55af9cf0",
   "metadata": {},
   "outputs": [
    {
     "data": {
      "image/png": "[encoded data removed]",
      "text/plain": [
       "<Figure size 720x540 with 1 Axes>"
      ]
     },
     "metadata": {},
     "output_type": "display_data"
    }
   ],
   "source": [
    "import pandas as pd\n",
    "import numpy as np\n",
    "import matplotlib.pyplot as plt\n",
    "%matplotlib inline \n",
    "\n",
    "%matplotlib inline\n",
    "plt.style.use(\"ggplot\")\n",
    "\n",
    "# 히스토그램 을 사용해서 데이터의 분포를 살펴봅니다.\n",
    "feature = df['target']\n",
    "\n",
    "plt.figure(figsize=(10,7.5)) # 그래프 이미지 크기 설정\n",
    "plt.suptitle(\"Bar Plot\", fontsize=30) # 부제목과 폰트 크기 설정\n",
    "\n",
    "plt.title('label', fontsize=20) # 제목과 폰트 크기 설정\n",
    "temp = feature.value_counts() # feature 변수의 변수별 개수 계산\n",
    "plt.bar(temp.keys(), temp.values, width=0.5, color='b', alpha=0.5) # 막대그래프 생성\n",
    "plt.xticks(temp.keys(), fontsize=12) # x축 값, 폰트 크기 설정\n",
    "plt.tight_layout(rect=[0, 0.03, 1, 0.95]) # 레이아웃 설정\n",
    "plt.show() # 그래프 나타내기"
   ]
  },
  {
   "cell_type": "markdown",
   "id": "c8e06902",
   "metadata": {},
   "source": [
    "6번 라벨이 다소 적고 3, 4번 라벨이 많음 ( 7번은 기타 )"
   ]
  },
  {
   "cell_type": "markdown",
   "id": "26e923e6",
   "metadata": {},
   "source": [
    "# text 길이 확인"
   ]
  },
  {
   "cell_type": "code",
   "execution_count": 11,
   "id": "f0b2644b",
   "metadata": {},
   "outputs": [
    {
     "ename": "KeyError",
     "evalue": "'text'",
     "output_type": "error",
     "traceback": [
      "\u001b[1;31m---------------------------------------------------------------------------\u001b[0m",
      "\u001b[1;31mKeyError\u001b[0m                                  Traceback (most recent call last)",
      "\u001b[1;32mC:\\ProgramData\\Anaconda3\\lib\\site-packages\\pandas\\core\\indexes\\base.py\u001b[0m in \u001b[0;36mget_loc\u001b[1;34m(self, key, method, tolerance)\u001b[0m\n\u001b[0;32m   3360\u001b[0m             \u001b[1;32mtry\u001b[0m\u001b[1;33m:\u001b[0m\u001b[1;33m\u001b[0m\u001b[1;33m\u001b[0m\u001b[0m\n\u001b[1;32m-> 3361\u001b[1;33m                 \u001b[1;32mreturn\u001b[0m \u001b[0mself\u001b[0m\u001b[1;33m.\u001b[0m\u001b[0m_engine\u001b[0m\u001b[1;33m.\u001b[0m\u001b[0mget_loc\u001b[0m\u001b[1;33m(\u001b[0m\u001b[0mcasted_key\u001b[0m\u001b[1;33m)\u001b[0m\u001b[1;33m\u001b[0m\u001b[1;33m\u001b[0m\u001b[0m\n\u001b[0m\u001b[0;32m   3362\u001b[0m             \u001b[1;32mexcept\u001b[0m \u001b[0mKeyError\u001b[0m \u001b[1;32mas\u001b[0m \u001b[0merr\u001b[0m\u001b[1;33m:\u001b[0m\u001b[1;33m\u001b[0m\u001b[1;33m\u001b[0m\u001b[0m\n",
      "\u001b[1;32mC:\\ProgramData\\Anaconda3\\lib\\site-packages\\pandas\\_libs\\index.pyx\u001b[0m in \u001b[0;36mpandas._libs.index.IndexEngine.get_loc\u001b[1;34m()\u001b[0m\n",
      "\u001b[1;32mC:\\ProgramData\\Anaconda3\\lib\\site-packages\\pandas\\_libs\\index.pyx\u001b[0m in \u001b[0;36mpandas._libs.index.IndexEngine.get_loc\u001b[1;34m()\u001b[0m\n",
      "\u001b[1;32mpandas\\_libs\\hashtable_class_helper.pxi\u001b[0m in \u001b[0;36mpandas._libs.hashtable.PyObjectHashTable.get_item\u001b[1;34m()\u001b[0m\n",
      "\u001b[1;32mpandas\\_libs\\hashtable_class_helper.pxi\u001b[0m in \u001b[0;36mpandas._libs.hashtable.PyObjectHashTable.get_item\u001b[1;34m()\u001b[0m\n",
      "\u001b[1;31mKeyError\u001b[0m: 'text'",
      "\nThe above exception was the direct cause of the following exception:\n",
      "\u001b[1;31mKeyError\u001b[0m                                  Traceback (most recent call last)",
      "\u001b[1;32m~\\AppData\\Local\\Temp/ipykernel_20964/4235639163.py\u001b[0m in \u001b[0;36m<module>\u001b[1;34m\u001b[0m\n\u001b[1;32m----> 1\u001b[1;33m \u001b[0mstr_len_mean\u001b[0m \u001b[1;33m=\u001b[0m \u001b[0mnp\u001b[0m\u001b[1;33m.\u001b[0m\u001b[0mmean\u001b[0m\u001b[1;33m(\u001b[0m\u001b[0mdf\u001b[0m\u001b[1;33m[\u001b[0m\u001b[1;34m'text'\u001b[0m\u001b[1;33m]\u001b[0m\u001b[1;33m.\u001b[0m\u001b[0mstr\u001b[0m\u001b[1;33m.\u001b[0m\u001b[0mlen\u001b[0m\u001b[1;33m(\u001b[0m\u001b[1;33m)\u001b[0m\u001b[1;33m)\u001b[0m\u001b[1;33m\u001b[0m\u001b[1;33m\u001b[0m\u001b[0m\n\u001b[0m\u001b[0;32m      2\u001b[0m \u001b[0mprint\u001b[0m\u001b[1;33m(\u001b[0m\u001b[1;34m'말뭉치의 평균 길이 :'\u001b[0m\u001b[1;33m,\u001b[0m\u001b[0mround\u001b[0m\u001b[1;33m(\u001b[0m\u001b[0mstr_len_mean\u001b[0m\u001b[1;33m,\u001b[0m\u001b[1;36m0\u001b[0m\u001b[1;33m)\u001b[0m\u001b[1;33m)\u001b[0m\u001b[1;33m\u001b[0m\u001b[1;33m\u001b[0m\u001b[0m\n",
      "\u001b[1;32mC:\\ProgramData\\Anaconda3\\lib\\site-packages\\pandas\\core\\frame.py\u001b[0m in \u001b[0;36m__getitem__\u001b[1;34m(self, key)\u001b[0m\n\u001b[0;32m   3456\u001b[0m             \u001b[1;32mif\u001b[0m \u001b[0mself\u001b[0m\u001b[1;33m.\u001b[0m\u001b[0mcolumns\u001b[0m\u001b[1;33m.\u001b[0m\u001b[0mnlevels\u001b[0m \u001b[1;33m>\u001b[0m \u001b[1;36m1\u001b[0m\u001b[1;33m:\u001b[0m\u001b[1;33m\u001b[0m\u001b[1;33m\u001b[0m\u001b[0m\n\u001b[0;32m   3457\u001b[0m                 \u001b[1;32mreturn\u001b[0m \u001b[0mself\u001b[0m\u001b[1;33m.\u001b[0m\u001b[0m_getitem_multilevel\u001b[0m\u001b[1;33m(\u001b[0m\u001b[0mkey\u001b[0m\u001b[1;33m)\u001b[0m\u001b[1;33m\u001b[0m\u001b[1;33m\u001b[0m\u001b[0m\n\u001b[1;32m-> 3458\u001b[1;33m             \u001b[0mindexer\u001b[0m \u001b[1;33m=\u001b[0m \u001b[0mself\u001b[0m\u001b[1;33m.\u001b[0m\u001b[0mcolumns\u001b[0m\u001b[1;33m.\u001b[0m\u001b[0mget_loc\u001b[0m\u001b[1;33m(\u001b[0m\u001b[0mkey\u001b[0m\u001b[1;33m)\u001b[0m\u001b[1;33m\u001b[0m\u001b[1;33m\u001b[0m\u001b[0m\n\u001b[0m\u001b[0;32m   3459\u001b[0m             \u001b[1;32mif\u001b[0m \u001b[0mis_integer\u001b[0m\u001b[1;33m(\u001b[0m\u001b[0mindexer\u001b[0m\u001b[1;33m)\u001b[0m\u001b[1;33m:\u001b[0m\u001b[1;33m\u001b[0m\u001b[1;33m\u001b[0m\u001b[0m\n\u001b[0;32m   3460\u001b[0m                 \u001b[0mindexer\u001b[0m \u001b[1;33m=\u001b[0m \u001b[1;33m[\u001b[0m\u001b[0mindexer\u001b[0m\u001b[1;33m]\u001b[0m\u001b[1;33m\u001b[0m\u001b[1;33m\u001b[0m\u001b[0m\n",
      "\u001b[1;32mC:\\ProgramData\\Anaconda3\\lib\\site-packages\\pandas\\core\\indexes\\base.py\u001b[0m in \u001b[0;36mget_loc\u001b[1;34m(self, key, method, tolerance)\u001b[0m\n\u001b[0;32m   3361\u001b[0m                 \u001b[1;32mreturn\u001b[0m \u001b[0mself\u001b[0m\u001b[1;33m.\u001b[0m\u001b[0m_engine\u001b[0m\u001b[1;33m.\u001b[0m\u001b[0mget_loc\u001b[0m\u001b[1;33m(\u001b[0m\u001b[0mcasted_key\u001b[0m\u001b[1;33m)\u001b[0m\u001b[1;33m\u001b[0m\u001b[1;33m\u001b[0m\u001b[0m\n\u001b[0;32m   3362\u001b[0m             \u001b[1;32mexcept\u001b[0m \u001b[0mKeyError\u001b[0m \u001b[1;32mas\u001b[0m \u001b[0merr\u001b[0m\u001b[1;33m:\u001b[0m\u001b[1;33m\u001b[0m\u001b[1;33m\u001b[0m\u001b[0m\n\u001b[1;32m-> 3363\u001b[1;33m                 \u001b[1;32mraise\u001b[0m \u001b[0mKeyError\u001b[0m\u001b[1;33m(\u001b[0m\u001b[0mkey\u001b[0m\u001b[1;33m)\u001b[0m \u001b[1;32mfrom\u001b[0m \u001b[0merr\u001b[0m\u001b[1;33m\u001b[0m\u001b[1;33m\u001b[0m\u001b[0m\n\u001b[0m\u001b[0;32m   3364\u001b[0m \u001b[1;33m\u001b[0m\u001b[0m\n\u001b[0;32m   3365\u001b[0m         \u001b[1;32mif\u001b[0m \u001b[0mis_scalar\u001b[0m\u001b[1;33m(\u001b[0m\u001b[0mkey\u001b[0m\u001b[1;33m)\u001b[0m \u001b[1;32mand\u001b[0m \u001b[0misna\u001b[0m\u001b[1;33m(\u001b[0m\u001b[0mkey\u001b[0m\u001b[1;33m)\u001b[0m \u001b[1;32mand\u001b[0m \u001b[1;32mnot\u001b[0m \u001b[0mself\u001b[0m\u001b[1;33m.\u001b[0m\u001b[0mhasnans\u001b[0m\u001b[1;33m:\u001b[0m\u001b[1;33m\u001b[0m\u001b[1;33m\u001b[0m\u001b[0m\n",
      "\u001b[1;31mKeyError\u001b[0m: 'text'"
     ]
    }
   ],
   "source": [
    "str_len_mean = np.mean(df['text'].str.len())\n",
    "print('말뭉치의 평균 길이 :',round(str_len_mean,0))"
   ]
  },
  {
   "cell_type": "code",
   "execution_count": null,
   "id": "91322524",
   "metadata": {},
   "outputs": [],
   "source": [
    "# 데이터 필터링을 위한 마스크 설정\n",
    "for i in range(0, 20):\n",
    "  globals()['mask_{}'.format(i)] = (df.target == i)\n",
    "\n",
    "# 전체 및 그룹 집합을 설정합니다.\n",
    "df_train = df.text.copy() # 전체 train 데이터\n",
    "\n",
    "for i in range(0, 7):\n",
    "  globals()['df_{}'.format(i)] = df.loc[globals()['mask_{}'.format(i)],:].text # 20가지 라벨 각각에 해당하는 데이터를 df0~19로 할당\n",
    "\n",
    "# 스무가지로 나뉜 집합을 리스트로 묶어줍니다.\n",
    "compare = [df_0, df_1, df_2, df_3, df_4, df_5, \n",
    "           df_6 ]"
   ]
  },
  {
   "cell_type": "markdown",
   "id": "7e5ba35f",
   "metadata": {},
   "source": [
    "# 불용어 "
   ]
  },
  {
   "cell_type": "code",
   "execution_count": null,
   "id": "8e0d9c72",
   "metadata": {},
   "outputs": [],
   "source": [
    "text = '뭐야 왔어 되는 계속 뭐야 이제 왔습니다 싶어요 아 왔어요 왔다 휴 아이구 아이쿠 아이고 어 나 우리 저희 따라 의해 을 를 에 의 가 으로 로 에게 뿐이다 의거하여 근거하여 입각하여 기준으로 예하면 예를 들면 예를 들자면 저 소인 소생 저희 지말고 하지마 하지마라 다른 물론 또한 그리고 비길수 없다 해서는 안된다 뿐만 아니라 만이 아니다 만은 아니다 막론하고 관계없이 그치지 않다 그러나 그런데 하지만 든간에 논하지 않다 따지지 않다 설사 비록 더라도 아니면 만 못하다 하는 편이 낫다 불문하고 향하여 향해서 향하다 쪽으로 틈타 이용하여 타다 오르다 제외하고 이 외에 이 밖에 하여야 비로소 한다면 몰라도 외에도 이곳 여기 부터 기점으로 따라서 할 생각이다 하려고하다 이리하여 그리하여 그렇게 함으로써 하지만 일때 할때 앞에서 중에서 보는데서 으로써 로써 까지 해야한다 일것이다 반드시 할줄알다 할수있다 할수있어 임에 틀림없다 한다면 등 등등 제 겨우 단지 다만 할뿐 딩동 댕그 대해서 대하여 대하면 훨씬 얼마나 얼마만큼 얼마큼 남짓 여 얼마간 약간 다소 좀 조금 다수 몇 얼마 지만 하물며 또한 그러나 그렇지만 하지만 이외에도 대해 말하자면 뿐이다 다음에 반대로 반대로 말하자면 이와 반대로 바꾸어서 말하면 바꾸어서 한다면 만약 그렇지않으면 까악 툭 딱 삐걱거리다 보드득 비걱거리다 꽈당 응당 해야한다 에 가서 각 각각 여러분 각종 각자 제각기 하도록하다 와 과 그러므로 그래서 고로 한 까닭에 하기 때문에 거니와 이지만 대하여 관하여 관한 과연 실로 아니나다를가 생각한대로 진짜로 한적이있다 하곤하였다 하 하하 허허 아하 거바 와 오 왜 어째서 무엇때문에 어찌 하겠는가 무슨 어디 어느곳 더군다나 하물며 더욱이는 어느때 언제 야 이봐 어이 여보시오 흐흐 흥 휴 헉헉 헐떡헐떡 영차 여차 어기여차 끙끙 아야 앗 아야 콸콸 졸졸 좍좍 뚝뚝 주룩주룩 솨 우르르 그래도 또 그리고 바꾸어말하면 바꾸어말하자면 혹은 혹시 답다 및 그에 따르는 때가 되어 즉 지든지 설령 가령 하더라도 할지라도 일지라도 지든지 몇 거의 하마터면 인젠 이젠 된바에야 된이상 만큼 어찌됏든 그위에 게다가 점에서 보아 비추어 보아 고려하면 하게될것이다 일것이다 비교적 좀 보다더 비하면 시키다 하게하다 할만하다 의해서 연이서 이어서 잇따라 뒤따라 뒤이어 결국 의지하여 기대여 통하여 자마자 더욱더 불구하고 얼마든지 마음대로 주저하지 않고 곧 즉시 바로 당장 하자마자 밖에 안된다 하면된다 그래 그렇지 요컨대 다시 말하자면 바꿔 말하면 즉 구체적으로 말하자면 시작하여 시초에 이상 허 헉 허걱 바와같이 해도좋다 해도된다 게다가 더구나 하물며 와르르 팍 퍽 펄렁 동안 이래 하고있었다 이었다 에서 로부터 까지 예하면 했어요 해요 함께 같이 더불어 마저 마저도 양자 모두 습니다 가까스로 하려고하다 즈음하여 다른 다른 방면으로 해봐요 습니까 했어요 말할것도 없고 무릎쓰고 개의치않고 하는것만 못하다 하는것이 낫다 매 매번 들 모 어느것 어느 로써 갖고말하자면 어디 어느쪽 어느것 어느해 어느 년도 라 해도 언젠가 어떤것 어느것 저기 저쪽 저것 그때 그럼 그러면 요만한걸 그래 그때 저것만큼 그저 이르기까지 할 줄 안다 할 힘이 있다 너 너희 당신 어찌 설마 차라리 할지언정 할지라도 할망정 할지언정 구토하다 게우다 토하다 메쓰겁다 옆사람 퉤 쳇 의거하여 근거하여 의해 따라 힘입어 그 다음 버금 두번째로 기타 첫번째로 나머지는 그중에서 견지에서 형식으로 쓰여 입장에서 위해서 단지 의해되다 하도록시키다 뿐만아니라 반대로 전후 전자 앞의것 잠시 잠깐 하면서 그렇지만 다음에 그러한즉 그런즉 남들 아무거나 어찌하든지 같다 비슷하다 예컨대 이럴정도로 어떻게 만약 만일 위에서 서술한바와같이 인 듯하다 하지 않는다면 만약에 무엇 무슨 어느 어떤 아래윗 조차 한데 그럼에도 불구하고 여전히 심지어 까지도 조차도 하지 않도록 않기 위하여 때 시각 무렵 시간 동안 어때 어떠한 하여금 네 예 우선 누구 누가 알겠는가 아무도 줄은모른다 줄은 몰랏다 하는 김에 겸사겸사 하는바 그런 까닭에 한 이유는 그러니 그러니까 때문에 그 너희 그들 너희들 타인 것 것들 너 위하여 공동으로 동시에 하기 위하여 어찌하여 무엇때문에 붕붕 윙윙 나 우리 엉엉 휘익 윙윙 오호 아하 어쨋든 만 못하다 하기보다는 차라리 하는 편이 낫다 흐흐 놀라다 상대적으로 말하자면 마치 아니라면 쉿 그렇지 않으면 그렇지 않다면 안 그러면 아니었다면 하든지 아니면 이라면 좋아 알았어 하는것도 그만이다 어쩔수 없다 하나 일 일반적으로 일단 한켠으로는 오자마자 이렇게되면 이와같다면 전부 한마디 한항목 근거로 하기에 아울러 하지 않도록 않기 위해서 이르기까지 이 되다 로 인하여 까닭으로 이유만으로 이로 인하여 그래서 이 때문에 그러므로 그런 까닭에 알 수 있다 결론을 낼 수 있다 으로 인하여 있다 어떤것 관계가 있다 관련이 있다 연관되다 어떤것들 에 대해 이리하여 그리하여 여부 하기보다는 하느니 하면 할수록 운운 이러이러하다 하구나 하도다 다시말하면 다음으로 에 있다 에 달려 있다 우리 우리들 오히려 하기는한데 어떻게 어떻해 어찌됏어 어때 어째서 본대로 자 이 이쪽 여기 이것 이번 이렇게말하자면 이런 이러한 이와 같은 요만큼 요만한 것 얼마 안 되는 것 이만큼 이 정도의 이렇게 많은 것 이와 같다 이때 이렇구나 것과 같이 끼익 삐걱 따위 와 같은 사람들 부류의 사람들 왜냐하면 중의하나 오직 오로지 에 한하다 하기만 하면 도착하다 까지 미치다 도달하다 정도에 이르다 할 지경이다 결과에 이르다 관해서는 여러분 하고 있다 한 후 혼자 자기 자기집 자신 우에 종합한것과같이 총적으로 보면 총적으로 말하면 총적으로 대로 하다 으로서 참 그만이다 할 따름이다 쿵 탕탕 쾅쾅 둥둥 봐 봐라 아이야 아니 와아 응 아이 참나 년 월 일 령 영 일 이 삼 사 오 육 륙 칠 팔 구 이천육 이천칠 이천팔 이천구 하나 둘 셋 넷 다섯 여섯 일곱 여덟 아홉 령 영 이 있 하 것 들 그 되 수 이 보 않 없 나 사람 주 아니 등 같 우리 때 년 가 한 지 대하 오 말 일 그렇 위하 때문 그것 두 말하 알 그러나 받 못하 일 그런 또 문제 더 사회 많 그리고 좋 크 따르 중 나오 가지 씨 시키 만들 지금 생각하 그러 속 하나 집 살 모르 적 월 데 자신 안 어떤 내 내 경우 명 생각 시간 그녀 다시 이런 앞 보이 번 나 다른 어떻 여자 개 전 들 사실 이렇 점 싶 말 정도 좀 원 잘 통하 놓'\n",
    "stopwords_k = text.split(' ')\n",
    "stopwords_k\n"
   ]
  },
  {
   "cell_type": "markdown",
   "id": "444ec519",
   "metadata": {},
   "source": [
    "#### Word Cloud & 시각화"
   ]
  },
  {
   "cell_type": "code",
   "execution_count": null,
   "id": "3c679295",
   "metadata": {},
   "outputs": [],
   "source": [
    "df_3"
   ]
  },
  {
   "cell_type": "code",
   "execution_count": null,
   "id": "ea6bb047",
   "metadata": {},
   "outputs": [],
   "source": [
    "# !pip install wordcloud-1.8.1-cp39-cp39-win_amd64.whl"
   ]
  },
  {
   "cell_type": "code",
   "execution_count": null,
   "id": "43f90840",
   "metadata": {},
   "outputs": [],
   "source": [
    "from wordcloud import WordCloud, ImageColorGenerator\n",
    "from PIL import Image\n",
    "import nltk\n",
    "import pickle\n",
    "from nltk.corpus import stopwords\n",
    "from os import path"
   ]
  },
  {
   "cell_type": "code",
   "execution_count": null,
   "id": "4b0c2e86",
   "metadata": {},
   "outputs": [],
   "source": [
    "# 하나의 문자열\n",
    "def df2str(df):\n",
    "    \n",
    "    s = [s for s in df]\n",
    "    document = \"\"\n",
    "    for i in range(len(s)):\n",
    "        document += s[i]\n",
    "    return document"
   ]
  },
  {
   "cell_type": "markdown",
   "id": "e13fba2e",
   "metadata": {},
   "source": [
    "워드클라우드를 만들기 위하여 텍스트를 토큰화 하겠습니다. nltk의 word_tokenize 메소드를 이용하여 토큰화"
   ]
  },
  {
   "cell_type": "code",
   "execution_count": null,
   "id": "48e4bbf2",
   "metadata": {},
   "outputs": [],
   "source": [
    "word_tokens = nltk.word_tokenize(df2str(df_6))"
   ]
  },
  {
   "cell_type": "markdown",
   "id": "5514f73a",
   "metadata": {},
   "source": [
    "### 품사 분리 POS tagging\n",
    "데이터 분석에 가장 큰 의미를 갖는 형태소인 명사만을 추출하기 위하여\n",
    "토큰화된 단어의 품사를 분리해보도록 하겠습니다.\n",
    "nltk의 pos_tag 메소드를 이용하여 \b품사분리를 진행합니다."
   ]
  },
  {
   "cell_type": "code",
   "execution_count": null,
   "id": "807a52a9",
   "metadata": {},
   "outputs": [],
   "source": [
    "# pos_tag()의 입력값으로는 단어의 리스트가 들어가야 한다.\n",
    "tokens_pos = nltk.pos_tag(word_tokens)"
   ]
  },
  {
   "cell_type": "markdown",
   "id": "529992fb",
   "metadata": {},
   "source": [
    "### 명사만 추출하기\n",
    "명사는 NN을 포함하고 있으므로 NN이 들어있는 단어만을 추출해보도록 하겠습니다."
   ]
  },
  {
   "cell_type": "code",
   "execution_count": null,
   "id": "e353d3e8",
   "metadata": {},
   "outputs": [],
   "source": [
    "# 명사는 NN을 포함하고 있음을 알 수 있음\n",
    "NN_words = []\n",
    "for word, pos in tokens_pos:\n",
    "    if 'NN' in pos:\n",
    "        NN_words.append(word)"
   ]
  },
  {
   "cell_type": "markdown",
   "id": "37c9be70",
   "metadata": {},
   "source": [
    "## 품사 원형 찾기\n",
    "\n",
    "워드클라우드 단어의 빈도수를 정확히 축정하기 위하여 단어의 원형형태로 통일해보도록 하겠습니다.\n",
    "\n",
    "nltk에서 제공하는 WordNetLemmatizer() 메소드를 이용해 보겠습니다."
   ]
  },
  {
   "cell_type": "code",
   "execution_count": null,
   "id": "6f3eb8d2",
   "metadata": {},
   "outputs": [],
   "source": [
    "# 명사의 경우 보통 복수 -> 단수 형태로 변형\n",
    "wlem = nltk.WordNetLemmatizer()\n",
    "lemmatized_words = []\n",
    "for word in NN_words:\n",
    "    new_word = wlem.lemmatize(word)\n",
    "    lemmatized_words.append(new_word)"
   ]
  },
  {
   "cell_type": "markdown",
   "id": "e3a37377",
   "metadata": {},
   "source": [
    "## 불용어 처리\n",
    "\n",
    "nltk에서 제공하는 불용어 기본 사전 이용하여 워드클라우드에 사용하지 않을 단어를 제거해 봅시다. "
   ]
  },
  {
   "cell_type": "code",
   "execution_count": null,
   "id": "6e7336fe",
   "metadata": {},
   "outputs": [],
   "source": [
    "stopwords_list = stopwords_k #nltk에서 제공하는 불용어사전 이용\n",
    "#print('stopwords: ', stopwords_list)\n",
    "unique_NN_words = set(lemmatized_words)\n",
    "final_NN_words = lemmatized_words\n",
    "\n",
    "# 불용어 제거\n",
    "for word in unique_NN_words:\n",
    "    if word in stopwords_list:\n",
    "        while word in final_NN_words: final_NN_words.remove(word)"
   ]
  },
  {
   "cell_type": "markdown",
   "id": "20459751",
   "metadata": {},
   "source": [
    "## 빈도분석"
   ]
  },
  {
   "cell_type": "code",
   "execution_count": null,
   "id": "669e893e",
   "metadata": {},
   "outputs": [],
   "source": [
    "from collections import Counter\n",
    "c = Counter(final_NN_words)\n",
    "k = 10"
   ]
  },
  {
   "cell_type": "code",
   "execution_count": null,
   "id": "7f9e75f7",
   "metadata": {},
   "outputs": [],
   "source": [
    "c.most_common(k) # 빈도수 기준 상위 k개 단어 출력"
   ]
  },
  {
   "cell_type": "code",
   "execution_count": null,
   "id": "da260f5f",
   "metadata": {},
   "outputs": [],
   "source": [
    "# 한글 세팅 방법\n",
    "plt.rcParams['font.family'] = \"Malgun Gothic\"  # 맑은 고딕\n",
    "# 한글이 잘 안먹으면 kernel restart\n",
    "\n",
    "top_10 = c.most_common(k) # 추출한 명사 중 상위 10개\n",
    "keys = [top_10[i][0] for i in range(len(top_10))]\n",
    "values = [top_10[i][1] for i in range(len(top_10))]\n",
    "\n",
    "plt.figure(figsize=(10,7.5))\n",
    "plt.suptitle(\"Bar Plot\", fontsize=30)\n",
    "plt.title('total reviews', fontsize=20)\n",
    "plt.bar(keys, values, width=0.5, color='b', alpha=0.5)\n",
    "plt.tight_layout(rect=[0, 0.03, 1, 0.95])\n",
    "plt.show()"
   ]
  },
  {
   "cell_type": "markdown",
   "id": "a5dfd388",
   "metadata": {},
   "source": [
    "## 워드클라우드"
   ]
  },
  {
   "cell_type": "code",
   "execution_count": null,
   "id": "2ea7a162",
   "metadata": {},
   "outputs": [],
   "source": [
    "# # 한글 세팅 방법\n",
    "\n",
    "# # 한글이 잘 안먹으면 kernel restart\n",
    "\n",
    "# noun_text = ''\n",
    "# for word in final_NN_words:\n",
    "#     noun_text = noun_text +' '+word\n",
    "\n",
    "# wordcloud = WordCloud(max_font_size=50, #가장 큰 폰트 크기 제한\n",
    "#                       width=500, #너비\n",
    "#                       height=300, #높이\n",
    "#                       font_path='font/Malgun Gothic.ttf',\n",
    "#                       background_color='white', #배경 색상\n",
    "#                       relative_scaling=.2 #상대적인 크기\n",
    "#                       ).generate(noun_text)\n",
    "# # plt.rcParams['font.family'] = \"Malgun Gothic\"  # 맑은 고딕\n",
    "\n",
    "# # wc = WordCloud(font_path='./font/BMDOHYEON_ttf.ttf', background_color=\"white\", max_words=20000, mask=mask,max_font_size=300)\n",
    "# # wordcloud = WordCloud(, background_color='white', colormap='winter').generate(text)\n",
    "\n",
    "# plt.figure(figsize=(20,10))\n",
    "# plt.imshow(wordcloud, interpolation='bilinear')\n",
    "# plt.axis(\"off\")\n",
    "# plt.show()"
   ]
  },
  {
   "cell_type": "markdown",
   "id": "20cf34e7",
   "metadata": {},
   "source": [
    "# 분류 학습 및 예측"
   ]
  },
  {
   "cell_type": "code",
   "execution_count": null,
   "id": "8162d7a2",
   "metadata": {},
   "outputs": [],
   "source": [
    "X = df['text'].values\n",
    "y = df['target'].values"
   ]
  },
  {
   "cell_type": "code",
   "execution_count": null,
   "id": "73d0bb10",
   "metadata": {},
   "outputs": [],
   "source": [
    "def preprocessor(text):\n",
    "    text = re.sub('<[^>]*>', '', text) # Effectively removes HTML markup tags\n",
    "    emoticons = re.findall('(?::|;|=)(?:-)?(?:\\)|\\(|D|P)', text)\n",
    "    text = re.sub('[\\W]+', ' ', text.lower()) + ' '.join(emoticons).replace('-', '')\n",
    "    return text"
   ]
  },
  {
   "cell_type": "code",
   "execution_count": null,
   "id": "b6788e71",
   "metadata": {},
   "outputs": [],
   "source": [
    "from sklearn.feature_extraction.text import TfidfVectorizer\n",
    "vectorizer = TfidfVectorizer(stop_words=stopwords_k, ngram_range=(1,2),)\n",
    "# min_df=2, preprocessor=preprocessor, ngram_range=(1,2),\n",
    "vectorizer.fit(X) \n",
    "X = vectorizer.transform(X) "
   ]
  },
  {
   "cell_type": "code",
   "execution_count": null,
   "id": "38845136",
   "metadata": {},
   "outputs": [],
   "source": [
    "from sklearn.model_selection import train_test_split\n",
    "X_train, X_test, Y_train, Y_test = train_test_split(X, y, test_size = 0.2, stratify=y)"
   ]
  },
  {
   "cell_type": "code",
   "execution_count": null,
   "id": "191a2570",
   "metadata": {},
   "outputs": [],
   "source": [
    "from sklearn.neural_network import MLPClassifier\n",
    "model = MLPClassifier(max_iter=500)"
   ]
  },
  {
   "cell_type": "code",
   "execution_count": null,
   "id": "9db4ad8a",
   "metadata": {},
   "outputs": [],
   "source": [
    "model.fit(X_train, Y_train)"
   ]
  },
  {
   "cell_type": "code",
   "execution_count": null,
   "id": "c34627c8",
   "metadata": {},
   "outputs": [],
   "source": [
    "from sklearn.metrics import accuracy_score\n",
    "\n",
    "model.score(X_train, Y_train), model.score(X_test, Y_test)"
   ]
  },
  {
   "cell_type": "code",
   "execution_count": null,
   "id": "c20ae1ba",
   "metadata": {},
   "outputs": [],
   "source": [
    "ex_df = { 'text':['현금 인출 하러 왔습니다.', '돈 뽑으러 왔어요', '돈을 달라','계좌를 개설하러 왔습니다.','입금 하려구요','배고파요','커피 주세요','통장에 얼마있어']}\n",
    "ex_df = pd.DataFrame(ex_df)\n",
    "ex_df"
   ]
  },
  {
   "cell_type": "code",
   "execution_count": null,
   "id": "04c776e7",
   "metadata": {},
   "outputs": [],
   "source": [
    "ex = vectorizer.transform(ex_df.text)\n",
    "y_pred = model.predict(ex)\n",
    "y_pred"
   ]
  },
  {
   "cell_type": "markdown",
   "id": "08b9610d",
   "metadata": {},
   "source": [
    "0,오류,손현오\n",
    "\n",
    "1,송금,권병지\n",
    "\n",
    "2,입금,김민석\n",
    "\n",
    "3,조회,성용제\n",
    "\n",
    "4,계좌 개설,황지원\n",
    "\n",
    "5,카드 발급,이찬형\n",
    "\n",
    "6,출금,손현오\n",
    "\n",
    "7,기타,손현오\n",
    ",,"
   ]
  },
  {
   "cell_type": "code",
   "execution_count": null,
   "id": "2b0f6a58",
   "metadata": {},
   "outputs": [],
   "source": [
    "saved_model = pickle.dumps(model)"
   ]
  },
  {
   "cell_type": "code",
   "execution_count": null,
   "id": "4042dfbb",
   "metadata": {},
   "outputs": [],
   "source": [
    "import joblib\n",
    "joblib.dump(model, 'corpus.pkl') "
   ]
  },
  {
   "cell_type": "code",
   "execution_count": null,
   "id": "2d40fe01",
   "metadata": {},
   "outputs": [],
   "source": [
    "joblib.dump(vectorizer, 'corpus_transformer.pkl')"
   ]
  }
 ],
 "metadata": {
  "kernelspec": {
   "display_name": "Python 3 (ipykernel)",
   "language": "python",
   "name": "python3"
  },
  "language_info": {
   "codemirror_mode": {
    "name": "ipython",
    "version": 3
   },
   "file_extension": ".py",
   "mimetype": "text/x-python",
   "name": "python",
   "nbconvert_exporter": "python",
   "pygments_lexer": "ipython3",
   "version": "3.9.7"
  }
 },
 "nbformat": 4,
 "nbformat_minor": 5
}
