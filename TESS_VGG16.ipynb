{
 "cells": [
  {
   "cell_type": "code",
   "execution_count": 1,
   "metadata": {
    "colab": {
     "base_uri": "https://localhost:8080/"
    },
    "id": "ZPYOtzh1rGzJ",
    "outputId": "e884799c-ffe4-4840-8947-175e53fe0ba8"
   },
   "outputs": [
    {
     "name": "stdout",
     "output_type": "stream",
     "text": [
      "Drive already mounted at /content/drive; to attempt to forcibly remount, call drive.mount(\"/content/drive\", force_remount=True).\n"
     ]
    }
   ],
   "source": [
    "# 드라이브 마운트\n",
    "from google.colab import drive\n",
    "drive.mount('/content/drive')\n"
   ]
  },
  {
   "cell_type": "code",
   "execution_count": null,
   "metadata": {
    "id": "pgiIKl0PSPWu"
   },
   "outputs": [],
   "source": [
    "# !pip install -U Pillow"
   ]
  },
  {
   "cell_type": "code",
   "execution_count": null,
   "metadata": {
    "id": "-C9tFfX4S3O4"
   },
   "outputs": [],
   "source": [
    "# !pip install boto3"
   ]
  },
  {
   "cell_type": "code",
   "execution_count": null,
   "metadata": {
    "id": "8Y6q3uJ4vEng"
   },
   "outputs": [],
   "source": [
    "import tensorflow as tf\n",
    "import numpy as np\n",
    "import pandas as pd\n",
    "#from PIL import image\n",
    "import io"
   ]
  },
  {
   "cell_type": "markdown",
   "metadata": {
    "id": "yF9jAQGaNDXc"
   },
   "source": []
  },
  {
   "cell_type": "code",
   "execution_count": null,
   "metadata": {
    "id": "r-7bL4DZr9IZ"
   },
   "outputs": [],
   "source": [
    "# For training set only\n",
    "import glob\n",
    "\n",
    "\n",
    "angry = glob.glob('/content/drive/MyDrive/Colab Notebooks/KB/TESS/TESSDATA/OAF_angry/*.*')\n",
    "angry2 = glob.glob('/content/drive/MyDrive/Colab Notebooks/KB/TESS/TESSDATA/YAF_angry/*.*')\n",
    "\n",
    "disgust = glob.glob('/content/drive/MyDrive/Colab Notebooks/KB/TESS/TESSDATA/OAF_disgust/*.*')\n",
    "disgust2 = glob.glob('/content/drive/MyDrive/Colab Notebooks/KB/TESS/TESSDATA/YAF_disgust/*.*')\n",
    "\n",
    "fearful = glob.glob('/content/drive/MyDrive/Colab Notebooks/KB/TESS/TESSDATA/OAF_Fear/*.*')\n",
    "fearful2 = glob.glob('/content/drive/MyDrive/Colab Notebooks/KB/TESS/TESSDATA/YAF_fear/*.*')\n",
    "\n",
    "happy = glob.glob('/content/drive/MyDrive/Colab Notebooks/KB/TESS/TESSDATA/OAF_happy/*.*')\n",
    "happy2 = glob.glob('/content/drive/MyDrive/Colab Notebooks/KB/TESS/TESSDATA/YAF_happy/*.*')\n",
    "\n",
    "neutral = glob.glob('/content/drive/MyDrive/Colab Notebooks/KB/TESS/TESSDATA/OAF_neutral/*.*')\n",
    "neutral2 = glob.glob('/content/drive/MyDrive/Colab Notebooks/KB/TESS/TESSDATA/YAF_neutral/*.*')\n",
    "\n",
    "sad = glob.glob('/content/drive/MyDrive/Colab Notebooks/KB/TESS/TESSDATA/OAF_Sad/*.*')\n",
    "sad2 = glob.glob('/content/drive/MyDrive/Colab Notebooks/KB/TESS/TESSDATA/YAF_sad/*.*')\n",
    "\n",
    "surprise = glob.glob('/content/drive/MyDrive/Colab Notebooks/KB/TESS/TESSDATA/OAF_Pleasant_surprise/*.*')\n",
    "surprise2 = glob.glob('/content/drive/MyDrive/Colab Notebooks/KB/TESS/TESSDATA/YAF_pleasant_surprised/*.*')\n",
    "\n",
    "emergency = glob.glob('/content/drive/MyDrive/Colab Notebooks/KB/위급상황/원천데이터/sample/*.*')"
   ]
  },
  {
   "cell_type": "code",
   "execution_count": null,
   "metadata": {
    "colab": {
     "background_save": true
    },
    "id": "vF5UqgNGN4ma",
    "outputId": "b95358ba-4672-4b13-8f50-5a2bf033d1ec"
   },
   "outputs": [
    {
     "name": "stdout",
     "output_type": "stream",
     "text": [
      "['/content/drive/MyDrive/Colab Notebooks/KB/TESS/TESSDATA/OAF_angry/OAF_kill_angry.wav', '/content/drive/MyDrive/Colab Notebooks/KB/TESS/TESSDATA/OAF_angry/OAF_gaze_angry.wav', '/content/drive/MyDrive/Colab Notebooks/KB/TESS/TESSDATA/OAF_angry/OAF_boat_angry.wav', '/content/drive/MyDrive/Colab Notebooks/KB/TESS/TESSDATA/OAF_angry/OAF_date_angry.wav', '/content/drive/MyDrive/Colab Notebooks/KB/TESS/TESSDATA/OAF_angry/OAF_beg_angry.wav', '/content/drive/MyDrive/Colab Notebooks/KB/TESS/TESSDATA/OAF_angry/OAF_cause_angry.wav', '/content/drive/MyDrive/Colab Notebooks/KB/TESS/TESSDATA/OAF_angry/OAF_limb_angry.wav', '/content/drive/MyDrive/Colab Notebooks/KB/TESS/TESSDATA/OAF_angry/OAF_fat_angry.wav', '/content/drive/MyDrive/Colab Notebooks/KB/TESS/TESSDATA/OAF_angry/OAF_get_angry.wav', '/content/drive/MyDrive/Colab Notebooks/KB/TESS/TESSDATA/OAF_angry/OAF_kick_angry.wav', '/content/drive/MyDrive/Colab Notebooks/KB/TESS/TESSDATA/OAF_angry/OAF_knock_angry.wav', '/content/drive/MyDrive/Colab Notebooks/KB/TESS/TESSDATA/OAF_angry/OAF_hush_angry.wav', '/content/drive/MyDrive/Colab Notebooks/KB/TESS/TESSDATA/OAF_angry/OAF_dip_angry.wav', '/content/drive/MyDrive/Colab Notebooks/KB/TESS/TESSDATA/OAF_angry/OAF_ditch_angry.wav', '/content/drive/MyDrive/Colab Notebooks/KB/TESS/TESSDATA/OAF_angry/OAF_lean_angry.wav', '/content/drive/MyDrive/Colab Notebooks/KB/TESS/TESSDATA/OAF_angry/OAF_cool_angry.wav', '/content/drive/MyDrive/Colab Notebooks/KB/TESS/TESSDATA/OAF_angry/OAF_chair_angry.wav', '/content/drive/MyDrive/Colab Notebooks/KB/TESS/TESSDATA/OAF_angry/OAF_bath_angry.wav', '/content/drive/MyDrive/Colab Notebooks/KB/TESS/TESSDATA/OAF_angry/OAF_chat_angry.wav', '/content/drive/MyDrive/Colab Notebooks/KB/TESS/TESSDATA/OAF_angry/OAF_join_angry.wav', '/content/drive/MyDrive/Colab Notebooks/KB/TESS/TESSDATA/OAF_angry/OAF_five_angry.wav', '/content/drive/MyDrive/Colab Notebooks/KB/TESS/TESSDATA/OAF_angry/OAF_fall_angry.wav', '/content/drive/MyDrive/Colab Notebooks/KB/TESS/TESSDATA/OAF_angry/OAF_live_angry.wav', '/content/drive/MyDrive/Colab Notebooks/KB/TESS/TESSDATA/OAF_angry/OAF_hire_angry.wav', '/content/drive/MyDrive/Colab Notebooks/KB/TESS/TESSDATA/OAF_angry/OAF_hit_angry.wav', '/content/drive/MyDrive/Colab Notebooks/KB/TESS/TESSDATA/OAF_angry/OAF_choice_angry.wav', '/content/drive/MyDrive/Colab Notebooks/KB/TESS/TESSDATA/OAF_angry/OAF_jug_angry.wav', '/content/drive/MyDrive/Colab Notebooks/KB/TESS/TESSDATA/OAF_angry/OAF_dab_angry.wav', '/content/drive/MyDrive/Colab Notebooks/KB/TESS/TESSDATA/OAF_angry/OAF_juice_angry.wav', '/content/drive/MyDrive/Colab Notebooks/KB/TESS/TESSDATA/OAF_angry/OAF_calm_angry.wav', '/content/drive/MyDrive/Colab Notebooks/KB/TESS/TESSDATA/OAF_angry/OAF_dog_angry.wav', '/content/drive/MyDrive/Colab Notebooks/KB/TESS/TESSDATA/OAF_angry/OAF_fail_angry.wav', '/content/drive/MyDrive/Colab Notebooks/KB/TESS/TESSDATA/OAF_angry/OAF_goose_angry.wav', '/content/drive/MyDrive/Colab Notebooks/KB/TESS/TESSDATA/OAF_angry/OAF_dime_angry.wav', '/content/drive/MyDrive/Colab Notebooks/KB/TESS/TESSDATA/OAF_angry/OAF_gun_angry.wav', '/content/drive/MyDrive/Colab Notebooks/KB/TESS/TESSDATA/OAF_angry/OAF_chalk_angry.wav', '/content/drive/MyDrive/Colab Notebooks/KB/TESS/TESSDATA/OAF_angry/OAF_cheek_angry.wav', '/content/drive/MyDrive/Colab Notebooks/KB/TESS/TESSDATA/OAF_angry/OAF_chief_angry.wav', '/content/drive/MyDrive/Colab Notebooks/KB/TESS/TESSDATA/OAF_angry/OAF_door_angry.wav', '/content/drive/MyDrive/Colab Notebooks/KB/TESS/TESSDATA/OAF_angry/OAF_gin_angry.wav', '/content/drive/MyDrive/Colab Notebooks/KB/TESS/TESSDATA/OAF_angry/OAF_keen_angry.wav', '/content/drive/MyDrive/Colab Notebooks/KB/TESS/TESSDATA/OAF_angry/OAF_have_angry.wav', '/content/drive/MyDrive/Colab Notebooks/KB/TESS/TESSDATA/OAF_angry/OAF_hash_angry.wav', '/content/drive/MyDrive/Colab Notebooks/KB/TESS/TESSDATA/OAF_angry/OAF_haze_angry.wav', '/content/drive/MyDrive/Colab Notebooks/KB/TESS/TESSDATA/OAF_angry/OAF_burn_angry.wav', '/content/drive/MyDrive/Colab Notebooks/KB/TESS/TESSDATA/OAF_angry/OAF_bean_angry.wav', '/content/drive/MyDrive/Colab Notebooks/KB/TESS/TESSDATA/OAF_angry/OAF_chain_angry.wav', '/content/drive/MyDrive/Colab Notebooks/KB/TESS/TESSDATA/OAF_angry/OAF_dodge_angry.wav', '/content/drive/MyDrive/Colab Notebooks/KB/TESS/TESSDATA/OAF_angry/OAF_jail_angry.wav', '/content/drive/MyDrive/Colab Notebooks/KB/TESS/TESSDATA/OAF_angry/OAF_goal_angry.wav', '/content/drive/MyDrive/Colab Notebooks/KB/TESS/TESSDATA/OAF_angry/OAF_keg_angry.wav', '/content/drive/MyDrive/Colab Notebooks/KB/TESS/TESSDATA/OAF_angry/OAF_far_angry.wav', '/content/drive/MyDrive/Colab Notebooks/KB/TESS/TESSDATA/OAF_angry/OAF_hurl_angry.wav', '/content/drive/MyDrive/Colab Notebooks/KB/TESS/TESSDATA/OAF_angry/OAF_lease_angry.wav', '/content/drive/MyDrive/Colab Notebooks/KB/TESS/TESSDATA/OAF_angry/OAF_food_angry.wav', '/content/drive/MyDrive/Colab Notebooks/KB/TESS/TESSDATA/OAF_angry/OAF_came_angry.wav', '/content/drive/MyDrive/Colab Notebooks/KB/TESS/TESSDATA/OAF_angry/OAF_bone_angry.wav', '/content/drive/MyDrive/Colab Notebooks/KB/TESS/TESSDATA/OAF_angry/OAF_king_angry.wav', '/content/drive/MyDrive/Colab Notebooks/KB/TESS/TESSDATA/OAF_angry/OAF_home_angry.wav', '/content/drive/MyDrive/Colab Notebooks/KB/TESS/TESSDATA/OAF_angry/OAF_doll_angry.wav', '/content/drive/MyDrive/Colab Notebooks/KB/TESS/TESSDATA/OAF_angry/OAF_death_angry.wav', '/content/drive/MyDrive/Colab Notebooks/KB/TESS/TESSDATA/OAF_angry/OAF_dead_angry.wav', '/content/drive/MyDrive/Colab Notebooks/KB/TESS/TESSDATA/OAF_angry/OAF_hole_angry.wav', '/content/drive/MyDrive/Colab Notebooks/KB/TESS/TESSDATA/OAF_angry/OAF_judge_angry.wav', '/content/drive/MyDrive/Colab Notebooks/KB/TESS/TESSDATA/OAF_angry/OAF_life_angry.wav', '/content/drive/MyDrive/Colab Notebooks/KB/TESS/TESSDATA/OAF_angry/OAF_half_angry.wav', '/content/drive/MyDrive/Colab Notebooks/KB/TESS/TESSDATA/OAF_angry/OAF_book_angry.wav', '/content/drive/MyDrive/Colab Notebooks/KB/TESS/TESSDATA/OAF_angry/OAF_good_angry.wav', '/content/drive/MyDrive/Colab Notebooks/KB/TESS/TESSDATA/OAF_angry/OAF_base_angry.wav', '/content/drive/MyDrive/Colab Notebooks/KB/TESS/TESSDATA/OAF_angry/OAF_deep_angry.wav', '/content/drive/MyDrive/Colab Notebooks/KB/TESS/TESSDATA/OAF_angry/OAF_keep_angry.wav', '/content/drive/MyDrive/Colab Notebooks/KB/TESS/TESSDATA/OAF_angry/OAF_laud_angry.wav', '/content/drive/MyDrive/Colab Notebooks/KB/TESS/TESSDATA/OAF_angry/OAF_fit_angry.wav', '/content/drive/MyDrive/Colab Notebooks/KB/TESS/TESSDATA/OAF_angry/OAF_late_angry.wav', '/content/drive/MyDrive/Colab Notebooks/KB/TESS/TESSDATA/OAF_angry/OAF_lid_angry.wav', '/content/drive/MyDrive/Colab Notebooks/KB/TESS/TESSDATA/OAF_angry/OAF_kite_angry.wav', '/content/drive/MyDrive/Colab Notebooks/KB/TESS/TESSDATA/OAF_angry/OAF_bite_angry.wav', '/content/drive/MyDrive/Colab Notebooks/KB/TESS/TESSDATA/OAF_angry/OAF_hall_angry.wav', '/content/drive/MyDrive/Colab Notebooks/KB/TESS/TESSDATA/OAF_angry/OAF_gas_angry.wav', '/content/drive/MyDrive/Colab Notebooks/KB/TESS/TESSDATA/OAF_angry/OAF_jar_angry.wav', '/content/drive/MyDrive/Colab Notebooks/KB/TESS/TESSDATA/OAF_angry/OAF_learn_angry.wav', '/content/drive/MyDrive/Colab Notebooks/KB/TESS/TESSDATA/OAF_angry/OAF_bar_angry.wav', '/content/drive/MyDrive/Colab Notebooks/KB/TESS/TESSDATA/OAF_angry/OAF_check_angry.wav', '/content/drive/MyDrive/Colab Notebooks/KB/TESS/TESSDATA/OAF_angry/OAF_back_angry.wav', '/content/drive/MyDrive/Colab Notebooks/KB/TESS/TESSDATA/OAF_angry/OAF_cab_angry.wav', '/content/drive/MyDrive/Colab Notebooks/KB/TESS/TESSDATA/OAF_angry/OAF_germ_angry.wav', '/content/drive/MyDrive/Colab Notebooks/KB/TESS/TESSDATA/OAF_angry/OAF_bought_angry.wav', '/content/drive/MyDrive/Colab Notebooks/KB/TESS/TESSDATA/OAF_angry/OAF_hate_angry.wav', '/content/drive/MyDrive/Colab Notebooks/KB/TESS/TESSDATA/OAF_angry/OAF_gap_angry.wav', '/content/drive/MyDrive/Colab Notebooks/KB/TESS/TESSDATA/OAF_angry/OAF_tape_angry.wav', '/content/drive/MyDrive/Colab Notebooks/KB/TESS/TESSDATA/OAF_angry/OAF_ton_angry.wav', '/content/drive/MyDrive/Colab Notebooks/KB/TESS/TESSDATA/OAF_angry/OAF_pick_angry.wav', '/content/drive/MyDrive/Colab Notebooks/KB/TESS/TESSDATA/OAF_angry/OAF_thumb_angry.wav', '/content/drive/MyDrive/Colab Notebooks/KB/TESS/TESSDATA/OAF_angry/OAF_lot_angry.wav', '/content/drive/MyDrive/Colab Notebooks/KB/TESS/TESSDATA/OAF_angry/OAF_walk_angry.wav', '/content/drive/MyDrive/Colab Notebooks/KB/TESS/TESSDATA/OAF_angry/OAF_shout_angry.wav', '/content/drive/MyDrive/Colab Notebooks/KB/TESS/TESSDATA/OAF_angry/OAF_wag_angry.wav', '/content/drive/MyDrive/Colab Notebooks/KB/TESS/TESSDATA/OAF_angry/OAF_soup_angry.wav', '/content/drive/MyDrive/Colab Notebooks/KB/TESS/TESSDATA/OAF_angry/OAF_page_angry.wav', '/content/drive/MyDrive/Colab Notebooks/KB/TESS/TESSDATA/OAF_angry/OAF_shirt_angry.wav', '/content/drive/MyDrive/Colab Notebooks/KB/TESS/TESSDATA/OAF_angry/OAF_reach_angry.wav', '/content/drive/MyDrive/Colab Notebooks/KB/TESS/TESSDATA/OAF_angry/OAF_lore_angry.wav', '/content/drive/MyDrive/Colab Notebooks/KB/TESS/TESSDATA/OAF_angry/OAF_match_angry.wav', '/content/drive/MyDrive/Colab Notebooks/KB/TESS/TESSDATA/OAF_angry/OAF_shawl_angry.wav', '/content/drive/MyDrive/Colab Notebooks/KB/TESS/TESSDATA/OAF_angry/OAF_met_angry.wav', '/content/drive/MyDrive/Colab Notebooks/KB/TESS/TESSDATA/OAF_angry/OAF_wheat_angry.wav', '/content/drive/MyDrive/Colab Notebooks/KB/TESS/TESSDATA/OAF_angry/OAF_wire_angry.wav', '/content/drive/MyDrive/Colab Notebooks/KB/TESS/TESSDATA/OAF_angry/OAF_sheep_angry.wav', '/content/drive/MyDrive/Colab Notebooks/KB/TESS/TESSDATA/OAF_angry/OAF_near_angry.wav', '/content/drive/MyDrive/Colab Notebooks/KB/TESS/TESSDATA/OAF_angry/OAF_sub_angry.wav', '/content/drive/MyDrive/Colab Notebooks/KB/TESS/TESSDATA/OAF_angry/OAF_mood_angry.wav', '/content/drive/MyDrive/Colab Notebooks/KB/TESS/TESSDATA/OAF_angry/OAF_neat_angry.wav', '/content/drive/MyDrive/Colab Notebooks/KB/TESS/TESSDATA/OAF_angry/OAF_make_angry.wav', '/content/drive/MyDrive/Colab Notebooks/KB/TESS/TESSDATA/OAF_angry/OAF_mill_angry.wav', '/content/drive/MyDrive/Colab Notebooks/KB/TESS/TESSDATA/OAF_angry/OAF_white_angry.wav', '/content/drive/MyDrive/Colab Notebooks/KB/TESS/TESSDATA/OAF_angry/OAF_pool_angry.wav', '/content/drive/MyDrive/Colab Notebooks/KB/TESS/TESSDATA/OAF_angry/OAF_such_angry.wav', '/content/drive/MyDrive/Colab Notebooks/KB/TESS/TESSDATA/OAF_angry/OAF_mess_angry.wav', '/content/drive/MyDrive/Colab Notebooks/KB/TESS/TESSDATA/OAF_angry/OAF_tip_angry.wav', '/content/drive/MyDrive/Colab Notebooks/KB/TESS/TESSDATA/OAF_angry/OAF_tell_angry.wav', '/content/drive/MyDrive/Colab Notebooks/KB/TESS/TESSDATA/OAF_angry/OAF_nice_angry.wav', '/content/drive/MyDrive/Colab Notebooks/KB/TESS/TESSDATA/OAF_angry/OAF_pain_angry.wav', '/content/drive/MyDrive/Colab Notebooks/KB/TESS/TESSDATA/OAF_angry/OAF_seize_angry.wav', '/content/drive/MyDrive/Colab Notebooks/KB/TESS/TESSDATA/OAF_angry/OAF_voice_angry.wav', '/content/drive/MyDrive/Colab Notebooks/KB/TESS/TESSDATA/OAF_angry/OAF_room_angry.wav', '/content/drive/MyDrive/Colab Notebooks/KB/TESS/TESSDATA/OAF_angry/OAF_mouse_angry.wav', '/content/drive/MyDrive/Colab Notebooks/KB/TESS/TESSDATA/OAF_angry/OAF_perch_angry.wav', '/content/drive/MyDrive/Colab Notebooks/KB/TESS/TESSDATA/OAF_angry/OAF_road_angry.wav', '/content/drive/MyDrive/Colab Notebooks/KB/TESS/TESSDATA/OAF_angry/OAF_raise_angry.wav', '/content/drive/MyDrive/Colab Notebooks/KB/TESS/TESSDATA/OAF_angry/OAF_talk_angry.wav', '/content/drive/MyDrive/Colab Notebooks/KB/TESS/TESSDATA/OAF_angry/OAF_moon_angry.wav', '/content/drive/MyDrive/Colab Notebooks/KB/TESS/TESSDATA/OAF_angry/OAF_yes_angry.wav', '/content/drive/MyDrive/Colab Notebooks/KB/TESS/TESSDATA/OAF_angry/OAF_take_angry.wav', '/content/drive/MyDrive/Colab Notebooks/KB/TESS/TESSDATA/OAF_angry/OAF_size_angry.wav', '/content/drive/MyDrive/Colab Notebooks/KB/TESS/TESSDATA/OAF_angry/OAF_rain_angry.wav', '/content/drive/MyDrive/Colab Notebooks/KB/TESS/TESSDATA/OAF_angry/OAF_team_angry.wav', '/content/drive/MyDrive/Colab Notebooks/KB/TESS/TESSDATA/OAF_angry/OAF_south_angry.wav', '/content/drive/MyDrive/Colab Notebooks/KB/TESS/TESSDATA/OAF_angry/OAF_tough_angry.wav', '/content/drive/MyDrive/Colab Notebooks/KB/TESS/TESSDATA/OAF_angry/OAF_ripe_angry.wav', '/content/drive/MyDrive/Colab Notebooks/KB/TESS/TESSDATA/OAF_angry/OAF_pole_angry.wav', '/content/drive/MyDrive/Colab Notebooks/KB/TESS/TESSDATA/OAF_angry/OAF_search_angry.wav', '/content/drive/MyDrive/Colab Notebooks/KB/TESS/TESSDATA/OAF_angry/OAF_witch_angry.wav', '/content/drive/MyDrive/Colab Notebooks/KB/TESS/TESSDATA/OAF_angry/OAF_pad_angry.wav', '/content/drive/MyDrive/Colab Notebooks/KB/TESS/TESSDATA/OAF_angry/OAF_sail_angry.wav', '/content/drive/MyDrive/Colab Notebooks/KB/TESS/TESSDATA/OAF_angry/OAF_tool_angry.wav', '/content/drive/MyDrive/Colab Notebooks/KB/TESS/TESSDATA/OAF_angry/OAF_ring_angry.wav', '/content/drive/MyDrive/Colab Notebooks/KB/TESS/TESSDATA/OAF_angry/OAF_note_angry.wav', '/content/drive/MyDrive/Colab Notebooks/KB/TESS/TESSDATA/OAF_angry/OAF_pearl_angry.wav', '/content/drive/MyDrive/Colab Notebooks/KB/TESS/TESSDATA/OAF_angry/OAF_thin_angry.wav', '/content/drive/MyDrive/Colab Notebooks/KB/TESS/TESSDATA/OAF_angry/OAF_pike_angry.wav', '/content/drive/MyDrive/Colab Notebooks/KB/TESS/TESSDATA/OAF_angry/OAF_sure_angry.wav', '/content/drive/MyDrive/Colab Notebooks/KB/TESS/TESSDATA/OAF_angry/OAF_sell_angry.wav', '/content/drive/MyDrive/Colab Notebooks/KB/TESS/TESSDATA/OAF_angry/OAF_numb_angry.wav', '/content/drive/MyDrive/Colab Notebooks/KB/TESS/TESSDATA/OAF_angry/OAF_long_angry.wav', '/content/drive/MyDrive/Colab Notebooks/KB/TESS/TESSDATA/OAF_angry/OAF_young_angry.wav', '/content/drive/MyDrive/Colab Notebooks/KB/TESS/TESSDATA/OAF_angry/OAF_said_angry.wav', '/content/drive/MyDrive/Colab Notebooks/KB/TESS/TESSDATA/OAF_angry/OAF_pass_angry.wav', '/content/drive/MyDrive/Colab Notebooks/KB/TESS/TESSDATA/OAF_angry/OAF_read_angry.wav', '/content/drive/MyDrive/Colab Notebooks/KB/TESS/TESSDATA/OAF_angry/OAF_thought_angry.wav', '/content/drive/MyDrive/Colab Notebooks/KB/TESS/TESSDATA/OAF_angry/OAF_mob_angry.wav', '/content/drive/MyDrive/Colab Notebooks/KB/TESS/TESSDATA/OAF_angry/OAF_luck_angry.wav', '/content/drive/MyDrive/Colab Notebooks/KB/TESS/TESSDATA/OAF_angry/OAF_love_angry.wav', '/content/drive/MyDrive/Colab Notebooks/KB/TESS/TESSDATA/OAF_angry/OAF_merge_angry.wav', '/content/drive/MyDrive/Colab Notebooks/KB/TESS/TESSDATA/OAF_angry/OAF_red_angry.wav', '/content/drive/MyDrive/Colab Notebooks/KB/TESS/TESSDATA/OAF_angry/OAF_vote_angry.wav', '/content/drive/MyDrive/Colab Notebooks/KB/TESS/TESSDATA/OAF_angry/OAF_puff_angry.wav', '/content/drive/MyDrive/Colab Notebooks/KB/TESS/TESSDATA/OAF_angry/OAF_nag_angry.wav', '/content/drive/MyDrive/Colab Notebooks/KB/TESS/TESSDATA/OAF_angry/OAF_rat_angry.wav', '/content/drive/MyDrive/Colab Notebooks/KB/TESS/TESSDATA/OAF_angry/OAF_raid_angry.wav', '/content/drive/MyDrive/Colab Notebooks/KB/TESS/TESSDATA/OAF_angry/OAF_wash_angry.wav', '/content/drive/MyDrive/Colab Notebooks/KB/TESS/TESSDATA/OAF_angry/OAF_time_angry.wav', '/content/drive/MyDrive/Colab Notebooks/KB/TESS/TESSDATA/OAF_angry/OAF_rough_angry.wav', '/content/drive/MyDrive/Colab Notebooks/KB/TESS/TESSDATA/OAF_angry/OAF_shack_angry.wav', '/content/drive/MyDrive/Colab Notebooks/KB/TESS/TESSDATA/OAF_angry/OAF_third_angry.wav', '/content/drive/MyDrive/Colab Notebooks/KB/TESS/TESSDATA/OAF_angry/OAF_yearn_angry.wav', '/content/drive/MyDrive/Colab Notebooks/KB/TESS/TESSDATA/OAF_angry/OAF_rose_angry.wav', '/content/drive/MyDrive/Colab Notebooks/KB/TESS/TESSDATA/OAF_angry/OAF_sour_angry.wav', '/content/drive/MyDrive/Colab Notebooks/KB/TESS/TESSDATA/OAF_angry/OAF_name_angry.wav', '/content/drive/MyDrive/Colab Notebooks/KB/TESS/TESSDATA/OAF_angry/OAF_loaf_angry.wav', '/content/drive/MyDrive/Colab Notebooks/KB/TESS/TESSDATA/OAF_angry/OAF_wife_angry.wav', '/content/drive/MyDrive/Colab Notebooks/KB/TESS/TESSDATA/OAF_angry/OAF_peg_angry.wav', '/content/drive/MyDrive/Colab Notebooks/KB/TESS/TESSDATA/OAF_angry/OAF_should_angry.wav', '/content/drive/MyDrive/Colab Notebooks/KB/TESS/TESSDATA/OAF_angry/OAF_mop_angry.wav', '/content/drive/MyDrive/Colab Notebooks/KB/TESS/TESSDATA/OAF_angry/OAF_mode_angry.wav', '/content/drive/MyDrive/Colab Notebooks/KB/TESS/TESSDATA/OAF_angry/OAF_vine_angry.wav', '/content/drive/MyDrive/Colab Notebooks/KB/TESS/TESSDATA/OAF_angry/OAF_turn_angry.wav', '/content/drive/MyDrive/Colab Notebooks/KB/TESS/TESSDATA/OAF_angry/OAF_tire_angry.wav', '/content/drive/MyDrive/Colab Notebooks/KB/TESS/TESSDATA/OAF_angry/OAF_which_angry.wav', '/content/drive/MyDrive/Colab Notebooks/KB/TESS/TESSDATA/OAF_angry/OAF_lose_angry.wav', '/content/drive/MyDrive/Colab Notebooks/KB/TESS/TESSDATA/OAF_angry/OAF_phone_angry.wav', '/content/drive/MyDrive/Colab Notebooks/KB/TESS/TESSDATA/OAF_angry/OAF_rush_angry.wav', '/content/drive/MyDrive/Colab Notebooks/KB/TESS/TESSDATA/OAF_angry/OAF_youth_angry.wav', '/content/drive/MyDrive/Colab Notebooks/KB/TESS/TESSDATA/OAF_angry/OAF_shall_angry.wav', '/content/drive/MyDrive/Colab Notebooks/KB/TESS/TESSDATA/OAF_angry/OAF_soap_angry.wav', '/content/drive/MyDrive/Colab Notebooks/KB/TESS/TESSDATA/OAF_angry/OAF_when_angry.wav', '/content/drive/MyDrive/Colab Notebooks/KB/TESS/TESSDATA/OAF_angry/OAF_rot_angry.wav', '/content/drive/MyDrive/Colab Notebooks/KB/TESS/TESSDATA/OAF_angry/OAF_rag_angry.wav', '/content/drive/MyDrive/Colab Notebooks/KB/TESS/TESSDATA/OAF_angry/OAF_void_angry.wav', '/content/drive/MyDrive/Colab Notebooks/KB/TESS/TESSDATA/OAF_angry/OAF_week_angry.wav', '/content/drive/MyDrive/Colab Notebooks/KB/TESS/TESSDATA/OAF_angry/OAF_whip_angry.wav']\n"
     ]
    }
   ],
   "source": [
    "print(angry)"
   ]
  },
  {
   "cell_type": "code",
   "execution_count": null,
   "metadata": {
    "colab": {
     "background_save": true
    },
    "id": "aIwakEamuWvB",
    "outputId": "ebbd48f2-635d-4882-c2c8-e9cc5058feb5"
   },
   "outputs": [
    {
     "data": {
      "text/plain": [
       "200"
      ]
     },
     "execution_count": null,
     "metadata": {},
     "output_type": "execute_result"
    }
   ],
   "source": [
    "len(surprise2)"
   ]
  },
  {
   "cell_type": "code",
   "execution_count": null,
   "metadata": {
    "colab": {
     "background_save": true
    },
    "id": "59n3TdYrv8a4",
    "outputId": "254276c9-dfe5-4b61-cdb7-5ba6cd3ce80f"
   },
   "outputs": [
    {
     "data": {
      "text/plain": [
       "1073"
      ]
     },
     "execution_count": null,
     "metadata": {},
     "output_type": "execute_result"
    }
   ],
   "source": [
    "len(emergency)"
   ]
  },
  {
   "cell_type": "code",
   "execution_count": null,
   "metadata": {
    "colab": {
     "background_save": true
    },
    "id": "CLNI5ovD0aUf",
    "outputId": "10b0e806-54d7-4383-e7eb-d10d9a6db6b9"
   },
   "outputs": [
    {
     "data": {
      "application/vnd.google.colaboratory.intrinsic+json": {
       "type": "string"
      },
      "text/plain": [
       "'.wav'"
      ]
     },
     "execution_count": null,
     "metadata": {},
     "output_type": "execute_result"
    }
   ],
   "source": [
    "mypath = '/content/drive/MyDrive/Colab Notebooks/KB/TESS/TESSDATA/YAF_angry/*.wav'\n",
    "mypath[-4::]"
   ]
  },
  {
   "cell_type": "code",
   "execution_count": null,
   "metadata": {
    "id": "o40N3EUUWsR2"
   },
   "outputs": [],
   "source": [
    "import keras\n",
    "import matplotlib.pyplot as plt\n",
    "from tensorflow.keras.preprocessing.image import load_img"
   ]
  },
  {
   "cell_type": "code",
   "execution_count": null,
   "metadata": {
    "id": "AtPW0gLjLmuO"
   },
   "outputs": [],
   "source": [
    "angry = glob.glob('/content/drive/MyDrive/Colab Notebooks/KB/TESS/TESSDATA/angry/*.*')\n",
    "\n",
    "disgust = glob.glob('/content/drive/MyDrive/Colab Notebooks/KB/TESS/TESSDATA/disgust/*.*')\n",
    "\n",
    "fearful = glob.glob('/content/drive/MyDrive/Colab Notebooks/KB/TESS/TESSDATA/fear/*.*')\n",
    "\n",
    "happy = glob.glob('/content/drive/MyDrive/Colab Notebooks/KB/TESS/TESSDATA/happy/*.*')\n",
    "\n",
    "neutral = glob.glob('/content/drive/MyDrive/Colab Notebooks/KB/TESS/TESSDATA/neutral/*.*')\n",
    "\n",
    "sad = glob.glob('/content/drive/MyDrive/Colab Notebooks/KB/TESS/TESSDATA/sad/*.*')\n",
    "\n",
    "surprise = glob.glob('/content/drive/MyDrive/Colab Notebooks/KB/TESS/TESSDATA/surprise/*.*')\n",
    "\n",
    "emergency = glob.glob('/content/drive/MyDrive/Colab Notebooks/KB/TESS/TESSDATA/emergency/*.*')"
   ]
  },
  {
   "cell_type": "code",
   "execution_count": null,
   "metadata": {
    "colab": {
     "base_uri": "https://localhost:8080/"
    },
    "id": "W3QMgZsOwvmY",
    "outputId": "9a600ff9-516a-488e-ab38-7e15e53ac2aa"
   },
   "outputs": [
    {
     "data": {
      "text/plain": [
       "400"
      ]
     },
     "execution_count": 26,
     "metadata": {},
     "output_type": "execute_result"
    }
   ],
   "source": [
    "len(fearful)"
   ]
  },
  {
   "cell_type": "code",
   "execution_count": null,
   "metadata": {
    "colab": {
     "base_uri": "https://localhost:8080/"
    },
    "id": "5qHcYQ1hnOE2",
    "outputId": "37edf9e3-6a83-40b3-9fe4-01e0067b7234"
   },
   "outputs": [
    {
     "name": "stdout",
     "output_type": "stream",
     "text": [
      "3667\n",
      "3667\n"
     ]
    }
   ],
   "source": [
    "\n",
    "data = []\n",
    "labels = []\n",
    "\n",
    "# Angry\n",
    "for i in angry:   \n",
    "    image=load_img(i, color_mode='rgb', \n",
    "    target_size= (224,224))\n",
    "    image=np.array(image)\n",
    "    data.append(image)\n",
    "    labels.append('Angry')\n",
    "\n",
    "# Disgust\n",
    "for i in disgust:   \n",
    "    image=tf.keras.preprocessing.image.load_img(i, color_mode='rgb', \n",
    "    target_size= (224,224))\n",
    "    image=np.array(image)\n",
    "    data.append(image)\n",
    "    labels.append('Disgust')\n",
    "\n",
    "\n",
    "# Fearful\n",
    "for i in fearful:   \n",
    "    image=tf.keras.preprocessing.image.load_img(i, color_mode='rgb', \n",
    "    target_size= (224,224))\n",
    "    image=np.array(image)\n",
    "    data.append(image)\n",
    "    labels.append('Fearful')\n",
    "\n",
    "\n",
    "# Happy\n",
    "for i in happy:   \n",
    "    image=tf.keras.preprocessing.image.load_img(i, color_mode='rgb', \n",
    "    target_size= (224,224))\n",
    "    image=np.array(image)\n",
    "    data.append(image)\n",
    "    labels.append('Happy')\n",
    "\n",
    "# Neutral\n",
    "for i in neutral:   \n",
    "    image=tf.keras.preprocessing.image.load_img(i, color_mode='rgb', \n",
    "    target_size= (224,224))\n",
    "    image=np.array(image)\n",
    "    data.append(image)\n",
    "    labels.append('Neutral')\n",
    "\n",
    "\n",
    "# Sad\n",
    "for i in sad:   \n",
    "    image=tf.keras.preprocessing.image.load_img(i, color_mode='rgb', \n",
    "    target_size= (224,224))\n",
    "    image=np.array(image)\n",
    "    data.append(image)\n",
    "    labels.append('Sad')\n",
    "\n",
    "# Surprise\n",
    "for i in surprise:   \n",
    "    image=tf.keras.preprocessing.image.load_img(i, color_mode='rgb', \n",
    "    target_size= (224,224))\n",
    "    image=np.array(image)\n",
    "    data.append(image)\n",
    "    labels.append('Surprise')\n",
    "\n",
    "# Emergency\n",
    "for i in emergency:   \n",
    "    image=tf.keras.preprocessing.image.load_img(i, color_mode='rgb', \n",
    "    target_size= (224,224))\n",
    "    image=np.array(image)\n",
    "    data.append(image)\n",
    "    labels.append('Emergency')\n",
    "\n",
    "train_data = np.array(data)\n",
    "train_labels = np.array(labels)\n",
    "print(len(train_data))\n",
    "print(len(train_labels))"
   ]
  },
  {
   "cell_type": "code",
   "execution_count": null,
   "metadata": {
    "colab": {
     "base_uri": "https://localhost:8080/"
    },
    "id": "3Fd0rC7Rp_fI",
    "outputId": "c6d21241-ba43-4451-bf27-9537a34151c5"
   },
   "outputs": [
    {
     "name": "stdout",
     "output_type": "stream",
     "text": [
      "true\n",
      "true\n",
      "true\n",
      "true\n",
      "true\n",
      "true\n",
      "true\n",
      "true\n"
     ]
    }
   ],
   "source": [
    "namelist = ['Angry','Disgust','Fearful','Happy','Neutral','Sad','Surprise','Emergency']\n",
    "for j in range(8) :\n",
    "  if namelist[j] in train_labels :\n",
    "    print('true')\n",
    "  else : print(\"false\")\n"
   ]
  },
  {
   "cell_type": "markdown",
   "metadata": {
    "id": "JW3DASJR_TUA"
   },
   "source": [
    "Data Preprocessing\n",
    "1. Normalize data"
   ]
  },
  {
   "cell_type": "code",
   "execution_count": null,
   "metadata": {
    "id": "MQaS5SEtDPcu"
   },
   "outputs": [],
   "source": [
    "print(len(train_data))\n",
    "print(len(train_labels))"
   ]
  },
  {
   "cell_type": "code",
   "execution_count": null,
   "metadata": {
    "id": "UjLr2HLPoVfh"
   },
   "outputs": [],
   "source": [
    "y = train_labels\n",
    "X_scaled = train_data"
   ]
  },
  {
   "cell_type": "code",
   "execution_count": null,
   "metadata": {
    "colab": {
     "base_uri": "https://localhost:8080/"
    },
    "id": "bYgrnv0_fkRd",
    "outputId": "515f2cef-fec6-43ba-ccde-f0c5a4a7e1a6"
   },
   "outputs": [
    {
     "data": {
      "text/plain": [
       "['Angry',\n",
       " 'Disgust',\n",
       " 'Fearful',\n",
       " 'Happy',\n",
       " 'Neutral',\n",
       " 'Sad',\n",
       " 'Surprise',\n",
       " 'Emergency']"
      ]
     },
     "execution_count": 41,
     "metadata": {},
     "output_type": "execute_result"
    }
   ],
   "source": [
    "indexes = np.unique(train_labels,return_index=True)[1]\n",
    "[train_labels[index] for index in sorted(indexes)]"
   ]
  },
  {
   "cell_type": "code",
   "execution_count": null,
   "metadata": {
    "id": "KMgU700wqz_5"
   },
   "outputs": [],
   "source": [
    "# X_scaled, Y를 학습 데이터와 검증 데이터로 분리하세요.\n",
    "# stratify = Y, random_state = 0\n",
    "from sklearn.model_selection import train_test_split\n",
    "X_train, X_test, y_train, y_test = train_test_split(\n",
    "    X_scaled,y,stratify = y, random_state = 0,\n",
    ")"
   ]
  },
  {
   "cell_type": "code",
   "execution_count": null,
   "metadata": {
    "id": "Mp7khxgGV8v0"
   },
   "outputs": [],
   "source": [
    "X_train = X_train.astype('float32')\n",
    "X_test = X_test.astype('float32')\n",
    "X_train /= 255\n",
    "X_test /= 255"
   ]
  },
  {
   "cell_type": "code",
   "execution_count": null,
   "metadata": {
    "id": "173RP5M6D9sI"
   },
   "outputs": [],
   "source": [
    "X_train.shape"
   ]
  },
  {
   "cell_type": "markdown",
   "metadata": {
    "id": "skMO4_pz_gRZ"
   },
   "source": [
    "2. One-hot encode target classes"
   ]
  },
  {
   "cell_type": "code",
   "execution_count": null,
   "metadata": {
    "id": "bwvFR8MX_S9S"
   },
   "outputs": [],
   "source": [
    "from sklearn.preprocessing import LabelEncoder\n",
    "from keras.utils import np_utils\n",
    "\n",
    "lb = LabelEncoder()\n",
    "y_train = np_utils.to_categorical(lb.fit_transform(y_train))\n",
    "y_test = np_utils.to_categorical(lb.fit_transform(y_test))"
   ]
  },
  {
   "cell_type": "code",
   "execution_count": null,
   "metadata": {
    "colab": {
     "base_uri": "https://localhost:8080/"
    },
    "id": "J9baQDKFqRT3",
    "outputId": "e0a4e25b-5fab-49e3-9fff-1ad3e4f6d6e3"
   },
   "outputs": [
    {
     "data": {
      "text/plain": [
       "(2750, 8)"
      ]
     },
     "execution_count": 12,
     "metadata": {},
     "output_type": "execute_result"
    }
   ],
   "source": [
    "y_train.shape"
   ]
  },
  {
   "cell_type": "markdown",
   "metadata": {
    "id": "PleP5s1g_kUQ"
   },
   "source": [
    "VGG-16 Model\n",
    "* First we import VGG16 and set the necessary arguments:"
   ]
  },
  {
   "cell_type": "code",
   "execution_count": null,
   "metadata": {
    "id": "vqqDhQI6wD-t"
   },
   "outputs": [],
   "source": [
    "from tensorflow.keras.applications import VGG16\n",
    "\n",
    "vgg_model = VGG16(weights='imagenet',include_top=False, input_shape=(224, 224, 3))\n",
    "\n",
    "# vgg_model.trainable = False\n",
    "vgg_model.summary()"
   ]
  },
  {
   "cell_type": "markdown",
   "metadata": {
    "id": "RqdBD7P7_r-Q"
   },
   "source": [
    "weights = ‘imagenet’ : use the pretrained weights instead of training the model from scratch\n",
    "\n",
    "include_top=False : we want to load the model without the classifier layers and add our own\n",
    "\n",
    "input_shape=(224,224,3) : specify the preferred shape of the images in our dataset\n",
    "\n",
    "Next we freeze the convolution blocks:"
   ]
  },
  {
   "cell_type": "code",
   "execution_count": null,
   "metadata": {
    "id": "rZooElj8_vdK"
   },
   "outputs": [],
   "source": [
    "for layer in vgg_model.layers:\n",
    "  layer.trainable = False\n",
    "# Make sure you have frozen the correct layers\n",
    "for i, layer in enumerate(vgg_model.layers):\n",
    "    print(i, layer.name, layer.trainable)"
   ]
  },
  {
   "cell_type": "markdown",
   "metadata": {
    "id": "38W5t9aJ_yo6"
   },
   "source": [
    "Then create our Dense layers:"
   ]
  },
  {
   "cell_type": "code",
   "execution_count": null,
   "metadata": {
    "id": "lU5cND0H_xLA"
   },
   "outputs": [],
   "source": [
    "import tensorflow as tf\n",
    "from keras.layers.convolutional import Conv2D, MaxPooling2D\n",
    "from keras.models import Sequential\n",
    "from keras.layers import Dense, Activation, Flatten\n",
    "from keras.layers import Dropout\n",
    "\n",
    "x = vgg_model.output\n",
    "x = Flatten()(x) # Flatten dimensions to for use in FC layers\n",
    "x = Dense(512, activation='relu')(x)\n",
    "x = Dropout(0.5)(x) # Dropout layer to reduce overfitting\n",
    "x = Dense(256, activation='relu')(x)\n",
    "x = Dense(8, activation='softmax')(x) # Softmax for multiclass\n",
    "transfer_model = tf.keras.Model(inputs=vgg_model.input, outputs=x)"
   ]
  },
  {
   "cell_type": "markdown",
   "metadata": {
    "id": "HmJAWKYl_1li"
   },
   "source": [
    "And lastly, we compile and fit the model:"
   ]
  },
  {
   "cell_type": "code",
   "execution_count": null,
   "metadata": {
    "colab": {
     "background_save": true
    },
    "id": "irMMzdv2_2uV",
    "outputId": "0017aa76-64c6-42a9-dde2-1c04ed7e33a2"
   },
   "outputs": [
    {
     "name": "stdout",
     "output_type": "stream",
     "text": [
      "Epoch 1/50\n"
     ]
    },
    {
     "name": "stderr",
     "output_type": "stream",
     "text": [
      "/usr/local/lib/python3.7/dist-packages/keras/optimizer_v2/adam.py:105: UserWarning: The `lr` argument is deprecated, use `learning_rate` instead.\n",
      "  super(Adam, self).__init__(name, **kwargs)\n"
     ]
    },
    {
     "name": "stdout",
     "output_type": "stream",
     "text": [
      "2750/2750 [==============================] - 2000s 727ms/step - loss: 0.7989 - accuracy: 0.7440 - val_loss: 0.0927 - val_accuracy: 0.9967\n",
      "Epoch 2/50\n",
      "2750/2750 [==============================] - 1979s 720ms/step - loss: 0.1338 - accuracy: 0.9702 - val_loss: 0.0212 - val_accuracy: 0.9967\n"
     ]
    }
   ],
   "source": [
    "import tensorflow as tf\n",
    "from tensorflow import keras\n",
    "from keras import optimizers\n",
    "from keras.callbacks import EarlyStopping\n",
    "\n",
    "learning_rate= 5e-5\n",
    "# https://sevillabk.github.io/1-early-stopping/\n",
    "early_stopping = EarlyStopping(monitor='val_loss', mode='min', baseline=0.4)\n",
    "transfer_model.compile(loss=\"categorical_crossentropy\"\n",
    "  ,optimizer=tf.keras.optimizers.Adam(lr=learning_rate)\n",
    "  ,metrics=[\"accuracy\"])\n",
    "history = transfer_model.fit(X_train, y_train, batch_size = 1, epochs=50, validation_data=(X_test,y_test),\n",
    "                             callbacks=[early_stopping])"
   ]
  },
  {
   "cell_type": "code",
   "execution_count": null,
   "metadata": {
    "colab": {
     "background_save": true
    },
    "id": "OXh_yM0z2dbm",
    "outputId": "0d7174ad-9f86-4413-d1c7-1e40cb28dd86"
   },
   "outputs": [
    {
     "name": "stdout",
     "output_type": "stream",
     "text": [
      "Test Loss:0.021174276247620583\n",
      "Test Accuracy:0.9967284798622131\n"
     ]
    }
   ],
   "source": [
    "test_loss, test_acc = transfer_model.evaluate(X_test, y_test, verbose=0)\n",
    "print(\"Test Loss:{}\".format(test_loss))\n",
    "print(\"Test Accuracy:{}\".format(test_acc))"
   ]
  },
  {
   "cell_type": "code",
   "execution_count": 6,
   "metadata": {
    "id": "EMG_UwY5NQ-2"
   },
   "outputs": [],
   "source": [
    "import tensorflow as tf\n",
    "\n",
    "model = tf.keras.models.load_model('/content/drive/MyDrive/Colab Notebooks/KB/MelSpectrogramVGG16.h5')"
   ]
  },
  {
   "cell_type": "code",
   "execution_count": null,
   "metadata": {
    "colab": {
     "base_uri": "https://localhost:8080/"
    },
    "id": "1M8m3KuaZF6K",
    "outputId": "ddba6e67-89d4-424a-9f92-ba985c31d06b"
   },
   "outputs": [
    {
     "data": {
      "text/plain": [
       "array([[0., 0., 0., ..., 1., 0., 0.],\n",
       "       [0., 1., 0., ..., 0., 0., 0.],\n",
       "       [0., 0., 0., ..., 1., 0., 0.],\n",
       "       ...,\n",
       "       [0., 0., 0., ..., 1., 0., 0.],\n",
       "       [0., 0., 0., ..., 0., 0., 1.],\n",
       "       [1., 0., 0., ..., 0., 0., 0.]], dtype=float32)"
      ]
     },
     "execution_count": 22,
     "metadata": {},
     "output_type": "execute_result"
    }
   ],
   "source": [
    "y_test"
   ]
  },
  {
   "cell_type": "markdown",
   "metadata": {
    "id": "qeCje2ZIcTMy"
   },
   "source": [
    "약 81%의 정확도를 보임."
   ]
  },
  {
   "cell_type": "code",
   "execution_count": null,
   "metadata": {
    "colab": {
     "base_uri": "https://localhost:8080/"
    },
    "id": "Ni1cxF3tPQUW",
    "outputId": "7f4b0926-d303-4947-d93f-fc3509a94bad"
   },
   "outputs": [
    {
     "name": "stdout",
     "output_type": "stream",
     "text": [
      "[[ 98   0   0   2   0   0   0   0]\n",
      " [  0  95   0   0   0   0   0   4]\n",
      " [  0   0 266   2   0   0   0   0]\n",
      " [  0   0   0 100   0   0   0   0]\n",
      " [  0   0   0   0 100   0   0   0]\n",
      " [  0   0   0   0   0 100   0   0]\n",
      " [  0   2   0   0   0   0  48   0]\n",
      " [  0   0   0   0   0   0   0 100]]\n"
     ]
    }
   ],
   "source": [
    "# https://stackoverflow.com/questions/69871061/valueerror-classification-metrics-cant-handle-a-mix-of-multilabel-indicator-an\n",
    "from sklearn.metrics import accuracy_score,confusion_matrix,classification_report\n",
    "import numpy as np\n",
    "predicted = model.predict(X_test)\n",
    "y_test_arg=np.argmax(y_test,axis=1)\n",
    "Y_pred = np.argmax(predicted,axis=1)\n",
    "\n",
    "print(confusion_matrix(y_test_arg,Y_pred))"
   ]
  },
  {
   "cell_type": "code",
   "execution_count": null,
   "metadata": {
    "id": "FWT3EgvlnEHm"
   },
   "outputs": [],
   "source": [
    "# https://stackoverflow.com/questions/69871061/valueerror-classification-metrics-cant-handle-a-mix-of-multilabel-indicator-an\n",
    "from sklearn.metrics import accuracy_score,confusion_matrix,classification_report\n",
    "import numpy as np\n",
    "predicted = model.predict(X_test)\n",
    "y_test_arg=np.argmax(y_test,axis=1)\n",
    "Y_pred = np.argmax(predicted,axis=1)\n",
    "\n",
    "print(confusion_matrix(y_test_arg,Y_pred))"
   ]
  },
  {
   "cell_type": "code",
   "execution_count": null,
   "metadata": {
    "colab": {
     "base_uri": "https://localhost:8080/"
    },
    "id": "XWIUEs8fXwyR",
    "outputId": "5d2e67a3-8da6-4ece-98f8-d104e5e2f30a"
   },
   "outputs": [
    {
     "data": {
      "text/plain": [
       "array([0., 0., 0., 0., 0., 1., 0., 0.], dtype=float32)"
      ]
     },
     "execution_count": 29,
     "metadata": {},
     "output_type": "execute_result"
    }
   ],
   "source": [
    "y_test[0]"
   ]
  },
  {
   "cell_type": "code",
   "execution_count": null,
   "metadata": {
    "colab": {
     "base_uri": "https://localhost:8080/"
    },
    "id": "zsBTmfj8dEUd",
    "outputId": "d1c44283-8599-4805-ad3b-ff3f0c08a5a2"
   },
   "outputs": [
    {
     "name": "stdout",
     "output_type": "stream",
     "text": [
      "Sad , 5\n"
     ]
    }
   ],
   "source": [
    "targetlist = ['Angry','Disgust','Fearful','Happy','Neutral','Sad','Surprise','Emergency']\n",
    "\n",
    "target_num = np.argmax(predicted[0])\n",
    "print(targetlist[target_num],',',target_num)"
   ]
  },
  {
   "cell_type": "code",
   "execution_count": null,
   "metadata": {
    "colab": {
     "base_uri": "https://localhost:8080/",
     "height": 589
    },
    "id": "lPhUasV7SbLS",
    "outputId": "adfc8189-a73f-4423-9fc3-96781a746b7d"
   },
   "outputs": [
    {
     "name": "stdout",
     "output_type": "stream",
     "text": [
      "Wav length: 1.533125, Mel_S shape:(40, 154)\n"
     ]
    },
    {
     "name": "stderr",
     "output_type": "stream",
     "text": [
      "/usr/local/lib/python3.7/dist-packages/ipykernel_launcher.py:31: MatplotlibDeprecationWarning: \n",
      "The frameon kwarg was deprecated in Matplotlib 3.1 and will be removed in 3.3. Use facecolor instead.\n"
     ]
    },
    {
     "data": {
      "text/plain": [
       "array([[3.14404671e-14, 1.40167049e-05, 3.76751093e-04, ...,\n",
       "        1.52010389e-03, 8.10539233e-04, 1.43703362e-02],\n",
       "       [1.27419471e-14, 2.80973472e-05, 3.59293167e-03, ...,\n",
       "        6.11363947e-02, 3.74309272e-02, 2.68882141e-02],\n",
       "       [2.02019772e-15, 2.47436801e-05, 2.78828596e-03, ...,\n",
       "        5.24699017e-02, 1.76121853e-02, 6.08026870e-02],\n",
       "       ...,\n",
       "       [1.22935347e-14, 2.65558782e-07, 2.51234997e-05, ...,\n",
       "        9.22115229e-04, 4.60745592e-04, 3.05757858e-04],\n",
       "       [6.54011587e-15, 1.83705410e-07, 2.71723293e-05, ...,\n",
       "        1.04647095e-03, 4.00056451e-04, 2.35397383e-04],\n",
       "       [5.11183494e-15, 1.13989955e-07, 3.44962282e-05, ...,\n",
       "        5.70055097e-04, 2.59376917e-04, 8.61771405e-05]], dtype=float32)"
      ]
     },
     "execution_count": 47,
     "metadata": {},
     "output_type": "execute_result"
    },
    {
     "data": {
      "image/png": "[encoded data removed]",
      "text/plain": [
       "<Figure size 720x288 with 2 Axes>"
      ]
     },
     "metadata": {
      "needs_background": "light"
     },
     "output_type": "display_data"
    }
   ],
   "source": [
    "\n",
    "import librosa\n",
    "import librosa.display\n",
    "import numpy as np\n",
    "import matplotlib.pyplot as plt\n",
    "\n",
    "frame_length = 0.032\n",
    "frame_stride = 0.010\n",
    "save_path = '/content/drive/MyDrive/Colab Notebooks/KB/real_data.png'\n",
    "testDataPath = '/content/drive/MyDrive/Colab Notebooks/KB/보이스피싱.wav'\n",
    "\n",
    "def Mel_S(wav_file):\n",
    "    # mel-spectrogram\n",
    "    # sr: sampling radio default - 22050\n",
    "    y, sr = librosa.load(wav_file, sr=16000)\n",
    "\n",
    "    # wav_length = len(y)/sr\n",
    "    input_nfft = int(round(sr*frame_length))    \n",
    "    input_stride = int(round(sr*frame_stride))\n",
    "\n",
    "    S = librosa.feature.melspectrogram(y=y, n_mels=40, n_fft=input_nfft, hop_length=input_stride)\n",
    "\n",
    "    print(\"Wav length: {}, Mel_S shape:{}\".format(len(y)/sr,np.shape(S)))\n",
    "\n",
    "    #Mel-Spectrogram plot\n",
    "    plt.figure(figsize=(10, 4))\n",
    "    librosa.display.specshow(librosa.power_to_db(S, ref=np.max), y_axis='mel', sr=sr, hop_length=input_stride, x_axis='time')\n",
    "    plt.colorbar(format='%+2.0f dB')\n",
    "    plt.title('Mel-Spectrogram')\n",
    "    plt.tight_layout()\n",
    "    plt.savefig(save_path, bbox_inches='tight', pad_inches=0, dpi=300, frameon='false')\n",
    "    # plt.show()\n",
    "   \n",
    "    return S\n",
    "\n",
    "Mel_S(testDataPath)\n"
   ]
  },
  {
   "cell_type": "code",
   "execution_count": 3,
   "metadata": {
    "id": "UCgu424JUvtg"
   },
   "outputs": [],
   "source": [
    "import keras\n",
    "import matplotlib.pyplot as plt\n",
    "import tensorflow as tf\n",
    "from tensorflow.keras.preprocessing.image import load_img\n",
    "import numpy as np\n",
    "testDataPath = '/content/drive/MyDrive/Colab Notebooks/KB/real_data.png'\n",
    "\n",
    "image=tf.keras.preprocessing.image.load_img(testDataPath, color_mode='rgb', \n",
    "    target_size= (224,224))\n",
    "\n",
    "real_test=np.array(image)"
   ]
  },
  {
   "cell_type": "code",
   "execution_count": 4,
   "metadata": {
    "colab": {
     "base_uri": "https://localhost:8080/"
    },
    "id": "PaodOsPVSX9s",
    "outputId": "3531352d-d6e7-44a2-cb02-156e3a8a3dd3"
   },
   "outputs": [
    {
     "data": {
      "text/plain": [
       "(224, 224, 3)"
      ]
     },
     "execution_count": 4,
     "metadata": {},
     "output_type": "execute_result"
    }
   ],
   "source": [
    "real_test = real_test.astype('float32')\n",
    "real_test /= 255\n",
    "real_test.shape"
   ]
  },
  {
   "cell_type": "code",
   "execution_count": 12,
   "metadata": {
    "colab": {
     "base_uri": "https://localhost:8080/"
    },
    "id": "z4waGpZEl0Fs",
    "outputId": "630cc1c7-43b3-4889-cbed-c27c5c214568"
   },
   "outputs": [
    {
     "name": "stdout",
     "output_type": "stream",
     "text": [
      "(224, 224, 3)\n"
     ]
    },
    {
     "data": {
      "text/plain": [
       "(224, 224, 3)"
      ]
     },
     "execution_count": 12,
     "metadata": {},
     "output_type": "execute_result"
    }
   ],
   "source": [
    "# testDataPath = '/content/drive/MyDrive/Colab Notebooks/KB/TESS/TESSDATA/surprise/surprise:399.png'\n",
    "testDataPath = '/content/drive/MyDrive/Colab Notebooks/KB/real_data.png'\n",
    "\n",
    "image=tf.keras.preprocessing.image.load_img(testDataPath, color_mode='rgb', \n",
    "    target_size= (224,224))\n",
    "real_test=np.array(image)\n",
    "\n",
    "real_test = real_test.astype('float32')\n",
    "real_test /= 255\n",
    "\n",
    "print(real_test.shape)\n",
    "real_test.reshape(-1, 224, 224, 3)\n",
    "real_test.shape\n",
    "# print(confusion_matrix(y_test_arg,Y_pred))"
   ]
  },
  {
   "cell_type": "code",
   "execution_count": 2,
   "metadata": {
    "colab": {
     "base_uri": "https://localhost:8080/",
     "height": 690
    },
    "id": "l4UV4FxzlDQV",
    "outputId": "3ebe4aac-472a-417d-99ec-9b55eee02fe4"
   },
   "outputs": [],
   "source": [
    "\n",
    "y_pred = model.predict(real_test)\n",
    "targetlist = ['Angry','Disgust','Fearful','Happy','Neutral','Sad','Surprise','Emergency']\n",
    "\n",
    "target_num = np.argmax(y_pred)\n",
    "print(targetlist[target_num],',',target_num)"
   ]
  },
  {
   "cell_type": "markdown",
   "metadata": {
    "id": "HXzw7_KiAGKI"
   },
   "source": [
    "Image Augmentation\n",
    "* Using ImageDataGenerator we can augment the images:"
   ]
  },
  {
   "cell_type": "code",
   "execution_count": null,
   "metadata": {
    "colab": {
     "background_save": true
    },
    "id": "N27OLCTDAFuv"
   },
   "outputs": [],
   "source": [
    "# train_datagen = ImageDataGenerator(rescale=1./255, zoom_range=0.3, rotation_range=40, width_shift_range=0.3, height_shift_range=0.3, shear_range=0.3, horizontal_flip=True, fill_mode=\"nearest\")\n",
    "# train_generator = train_datagen.flow(train_data, train_lb, batch_size=1)\n",
    "# val_datagen = ImageDataGenerator(rescale=1./255)\n",
    "# val_generator = val_datagen.flow(test_data,val_lb,batch_size=1)"
   ]
  },
  {
   "cell_type": "markdown",
   "metadata": {
    "id": "JHPPY-7GALdh"
   },
   "source": [
    "Next, we will build our deep learning model, compile \n",
    "the model, then fit it:"
   ]
  },
  {
   "cell_type": "code",
   "execution_count": null,
   "metadata": {
    "colab": {
     "background_save": true
    },
    "id": "2EI7h_D2ALBR"
   },
   "outputs": [],
   "source": [
    "# x = vgg_model.output\n",
    "# x = Flatten()(x) # Flatten dimensions to for use in FC layers\n",
    "# x = Dense(512, activation='relu')(x)\n",
    "# x = Dropout(0.5)(x) # Dropout layer to reduce overfitting\n",
    "# x = Dense(256, activation='relu')(x)\n",
    "# x = Dense(8, activation='softmax')(x) # Softmax for multiclass\n",
    "# transfer_model = Model(inputs=vgg_model.input, outputs=x)\n",
    "# learning_rate= 5e-5\n",
    "# transfer_model.compile(loss=\"sparse_categorical_crossentropy\", optimizer=keras.optimizers.Adam(lr=learning_rate), metrics=[\"accuracy\"])\n",
    "# history = transfer_model.fit_generator(train_generator, validation_data=val_generator, epochs=100, shuffle=True, verbose=1)"
   ]
  }
 ],
 "metadata": {
  "accelerator": "GPU",
  "colab": {
   "collapsed_sections": [],
   "name": "TESS_VGG16.ipynb",
   "provenance": []
  },
  "kernelspec": {
   "display_name": "Python 3",
   "language": "python",
   "name": "python3"
  },
  "language_info": {
   "codemirror_mode": {
    "name": "ipython",
    "version": 3
   },
   "file_extension": ".py",
   "mimetype": "text/x-python",
   "name": "python",
   "nbconvert_exporter": "python",
   "pygments_lexer": "ipython3",
   "version": "3.8.5"
  }
 },
 "nbformat": 4,
 "nbformat_minor": 1
}
