{
 "cells": [
  {
   "cell_type": "code",
   "execution_count": null,
   "metadata": {
    "id": "51d22d67"
   },
   "outputs": [],
   "source": [
    "# import joblib\n",
    "import pandas as pd\n",
    "import tensorflow as tf\n",
    "\n",
    "\n",
    "model2 = tf.keras.models.load_model('/content/drive/MyDrive/CNN_second_model2.h5')"
   ]
  },
  {
   "cell_type": "code",
   "execution_count": null,
   "metadata": {
    "colab": {
     "base_uri": "https://localhost:8080/"
    },
    "executionInfo": {
     "elapsed": 18512,
     "status": "ok",
     "timestamp": 1652762760461,
     "user": {
      "displayName": "성용제",
      "userId": "10556121159126770650"
     },
     "user_tz": -540
    },
    "id": "Pqs82u7ejLok",
    "outputId": "6f105f39-3a86-4479-f93a-515c29fa67b5"
   },
   "outputs": [
    {
     "name": "stdout",
     "output_type": "stream",
     "text": [
      "Mounted at /content/drive\n"
     ]
    }
   ],
   "source": [
    "from google.colab import drive\n",
    "drive.mount('/content/drive')"
   ]
  },
  {
   "cell_type": "code",
   "execution_count": null,
   "metadata": {
    "id": "8c7d0444"
   },
   "outputs": [],
   "source": [
    "import numpy as np\n",
    "import itertools\n",
    "import librosa\n",
    "import librosa.display\n",
    "import IPython.display as ipd\n",
    "import matplotlib.pyplot as plt\n",
    "import os\n",
    "from glob import glob\n",
    "plt.style.use('seaborn-white')"
   ]
  },
  {
   "cell_type": "code",
   "execution_count": null,
   "metadata": {
    "id": "2e1eb709"
   },
   "outputs": [],
   "source": [
    "def get_target_data(data_dir):\n",
    "    audio_path_list = []\n",
    "    audio_path_list.extend(glob(os.path.join(data_dir,'*.wav')))\n",
    "    label_list = [1] * len(audio_path_list)\n",
    "           \n",
    "    return audio_path_list, label_list"
   ]
  },
  {
   "cell_type": "code",
   "execution_count": null,
   "metadata": {
    "id": "IV8_BJNMkrYf"
   },
   "outputs": [],
   "source": [
    "import os\n",
    "from glob import glob\n",
    "all_audio_path, all_label = get_target_data('C:/Users/user/Desktop/KB국민 아카데미/머신러닝/원천데이터/sample')"
   ]
  },
  {
   "cell_type": "code",
   "execution_count": null,
   "metadata": {
    "colab": {
     "base_uri": "https://localhost:8080/"
    },
    "executionInfo": {
     "elapsed": 368,
     "status": "ok",
     "timestamp": 1652515164702,
     "user": {
      "displayName": "성용제",
      "userId": "10556121159126770650"
     },
     "user_tz": -540
    },
    "id": "bNuUxJKekuZa",
    "outputId": "5804a496-033c-4ab2-dab6-770cf39f009f"
   },
   "outputs": [
    {
     "data": {
      "text/plain": [
       "1073"
      ]
     },
     "execution_count": 170,
     "metadata": {},
     "output_type": "execute_result"
    }
   ],
   "source": [
    "len(all_audio_path)"
   ]
  },
  {
   "cell_type": "code",
   "execution_count": null,
   "metadata": {
    "id": "P2w1VtuilK_J"
   },
   "outputs": [],
   "source": [
    "def get_normal_data(data_dir):\n",
    "    normal_path_list = []\n",
    "    \n",
    "    for case_name in os.listdir(data_dir):\n",
    "        current_path = os.path.join(data_dir, case_name)\n",
    "        for case_name_2 in os.listdir(current_path):\n",
    "            current_path_2 = os.path.join(current_path, case_name_2)\n",
    "            for case_name_3 in os.listdir(current_path_2):\n",
    "                current_path_3 = os.path.join(current_path_2, case_name_3)\n",
    "                normal_path_list.extend(glob(os.path.join(current_path_3,'*.wav')))\n",
    "    \n",
    "    label_list = [0] * len(normal_path_list)\n",
    "           \n",
    "    return normal_path_list, label_list"
   ]
  },
  {
   "cell_type": "code",
   "execution_count": null,
   "metadata": {
    "id": "bcy5vJJylOC9"
   },
   "outputs": [],
   "source": [
    "all_normal_path, all_normal_label = get_normal_data('C:/Users/user/Desktop/KB국민 아카데미/머신러닝/원천데이터/KrespSpeech')"
   ]
  },
  {
   "cell_type": "code",
   "execution_count": null,
   "metadata": {
    "colab": {
     "base_uri": "https://localhost:8080/"
    },
    "executionInfo": {
     "elapsed": 10,
     "status": "ok",
     "timestamp": 1652515540343,
     "user": {
      "displayName": "성용제",
      "userId": "10556121159126770650"
     },
     "user_tz": -540
    },
    "id": "p3oq53o7lSky",
    "outputId": "0eb777ff-1190-475a-c6e5-f0f63e57d37e"
   },
   "outputs": [
    {
     "data": {
      "text/plain": [
       "5463"
      ]
     },
     "execution_count": 173,
     "metadata": {},
     "output_type": "execute_result"
    }
   ],
   "source": [
    "len(all_normal_path)"
   ]
  },
  {
   "cell_type": "code",
   "execution_count": 2,
   "metadata": {
    "colab": {
     "base_uri": "https://localhost:8080/",
     "height": 517
    },
    "executionInfo": {
     "elapsed": 931,
     "status": "error",
     "timestamp": 1652762797130,
     "user": {
      "displayName": "성용제",
      "userId": "10556121159126770650"
     },
     "user_tz": -540
    },
    "id": "a40360b4",
    "outputId": "0e9787c8-ce72-4274-d78e-be8131e3e2fb"
   },
   "outputs": [],
   "source": [
    "# path = '/content/drive/MyDrive/실제음성_데이터/0001.wav'\n",
    "path = 'C:\\\\Users\\\\user\\\\Desktop\\\\KB\\\\data\\\\정상.wav'\n",
    "y, sr = librosa.load(path)\n",
    "n_fft = int(np.ceil(0.025 * sr))\n",
    "win_length = int(np.ceil(0.025 * sr))\n",
    "hop_length = int(np.ceil(0.01 * sr))\n",
    "\n",
    "S = librosa.feature.melspectrogram(y=y, sr=sr, n_mels=40, win_length=win_length, hop_length=hop_length, n_fft=n_fft)\n"
   ]
  },
  {
   "cell_type": "code",
   "execution_count": null,
   "metadata": {
    "colab": {
     "base_uri": "https://localhost:8080/"
    },
    "executionInfo": {
     "elapsed": 571,
     "status": "ok",
     "timestamp": 1652696040030,
     "user": {
      "displayName": "성용제",
      "userId": "10556121159126770650"
     },
     "user_tz": -540
    },
    "id": "9c374b67",
    "outputId": "63a4cd68-2652-4e0e-ce3d-c03a6b07260f"
   },
   "outputs": [
    {
     "data": {
      "text/plain": [
       "(40, 215)"
      ]
     },
     "execution_count": 22,
     "metadata": {},
     "output_type": "execute_result"
    }
   ],
   "source": [
    "S.shape"
   ]
  },
  {
   "cell_type": "code",
   "execution_count": null,
   "metadata": {
    "id": "2c84e382"
   },
   "outputs": [],
   "source": [
    "arr_df = []"
   ]
  },
  {
   "cell_type": "code",
   "execution_count": null,
   "metadata": {
    "id": "d2a6fd08"
   },
   "outputs": [],
   "source": [
    "arr_df.append( list(itertools.chain(*S)))"
   ]
  },
  {
   "cell_type": "code",
   "execution_count": null,
   "metadata": {
    "colab": {
     "base_uri": "https://localhost:8080/"
    },
    "executionInfo": {
     "elapsed": 2,
     "status": "ok",
     "timestamp": 1652696040478,
     "user": {
      "displayName": "성용제",
      "userId": "10556121159126770650"
     },
     "user_tz": -540
    },
    "id": "76709d38",
    "outputId": "12b968cf-5cc7-425f-9063-d6112c47dfeb"
   },
   "outputs": [
    {
     "data": {
      "text/plain": [
       "0.009540002857029717"
      ]
     },
     "execution_count": 25,
     "metadata": {},
     "output_type": "execute_result"
    }
   ],
   "source": [
    "avg = sum(arr_df[0])/len(arr_df[0])\n",
    "avg"
   ]
  },
  {
   "cell_type": "code",
   "execution_count": null,
   "metadata": {
    "colab": {
     "base_uri": "https://localhost:8080/"
    },
    "executionInfo": {
     "elapsed": 1,
     "status": "ok",
     "timestamp": 1652696040926,
     "user": {
      "displayName": "성용제",
      "userId": "10556121159126770650"
     },
     "user_tz": -540
    },
    "id": "465320e2",
    "outputId": "4de0736f-96fe-4b52-a22f-723f80ee5d22"
   },
   "outputs": [
    {
     "data": {
      "text/plain": [
       "8600"
      ]
     },
     "execution_count": 26,
     "metadata": {},
     "output_type": "execute_result"
    }
   ],
   "source": [
    "l = len(arr_df[0])\n",
    "l"
   ]
  },
  {
   "cell_type": "code",
   "execution_count": null,
   "metadata": {
    "colab": {
     "base_uri": "https://localhost:8080/"
    },
    "executionInfo": {
     "elapsed": 655,
     "status": "ok",
     "timestamp": 1652604370299,
     "user": {
      "displayName": "성용제",
      "userId": "10556121159126770650"
     },
     "user_tz": -540
    },
    "id": "267c4157",
    "outputId": "0b7745f7-ef83-45ba-f082-591795404765"
   },
   "outputs": [
    {
     "name": "stdout",
     "output_type": "stream",
     "text": [
      "[[0.00028694]]\n",
      "[[0.51045406]]\n",
      "[[0.510741]]\n",
      "1\n"
     ]
    }
   ],
   "source": [
    "# 파일 길이가 max_num 길이보다 긴 경우 max_num으로 나눠서 모든 섹션을 확인하여 더해준다.\n",
    "\n",
    "max_num = 14960\n",
    "arr_re = []\n",
    "\n",
    "pred_now = 0\n",
    "idx = l//max_num\n",
    "for i in range(idx):\n",
    "    arr_re = []\n",
    "    for j in range(i*max_num,(i+1)*max_num):\n",
    "        arr_re.append(arr_df[0][j])\n",
    "\n",
    "    padded_np = np.array(arr_re)\n",
    "\n",
    "    b = padded_np.reshape(1, 40, 374)\n",
    "\n",
    "    re_np = np.expand_dims(b, -1)\n",
    "\n",
    "    pred = model2.predict(re_np)\n",
    "    print(pred)\n",
    "    pred_now += pred\n",
    "\n",
    "if l%max_num != 0:\n",
    "    arr_re = []\n",
    "    for i in range(idx*max_num,l):\n",
    "    arr_re.append(arr_df[0][i])\n",
    "    for i in range(max_num-l%max_num):\n",
    "        arr_re.append(avg)\n",
    "    padded_np = np.array(arr_re)\n",
    "\n",
    "    b = padded_np.reshape(1, 40, 374)\n",
    "\n",
    "    re_np = np.expand_dims(b, -1)\n",
    "\n",
    "    pred = model2.predict(re_np)\n",
    "    print(pred)\n",
    "    pred_now += pred\n",
    "\n",
    "print(pred_now)\n",
    "if pred_now > 0.1:\n",
    "    print(1)\n",
    "else:\n",
    "    print(0)"
   ]
  },
  {
   "cell_type": "code",
   "execution_count": null,
   "metadata": {
    "colab": {
     "base_uri": "https://localhost:8080/"
    },
    "executionInfo": {
     "elapsed": 360,
     "status": "ok",
     "timestamp": 1652696044933,
     "user": {
      "displayName": "성용제",
      "userId": "10556121159126770650"
     },
     "user_tz": -540
    },
    "id": "b7726c96",
    "outputId": "b4d0bd2c-97b6-4f12-a8b4-0dddb265867a"
   },
   "outputs": [
    {
     "name": "stdout",
     "output_type": "stream",
     "text": [
      "[[0.00600991]]\n",
      "0\n"
     ]
    }
   ],
   "source": [
    "# 파일 길이가 max_num보다 짧은 경우 avg 값을 뒤에 추가하여 길이를 맞춰준다.\n",
    "\n",
    "max_num = 14960\n",
    "arr_re = []\n",
    "\n",
    "for i in range(l):\n",
    "    arr_re.append(arr_df[0][i])\n",
    "for i in range(max_num-l):\n",
    "    arr_re.append(avg)\n",
    "\n",
    "padded_np = np.array(arr_re)\n",
    "\n",
    "b = padded_np.reshape(1, 40, 374)\n",
    "\n",
    "re_np = np.expand_dims(b, -1)\n",
    "\n",
    "pred = model2.predict(re_np)\n",
    "print(pred)\n",
    "if np.round(pred)[0][0] > 0.1:\n",
    "    print(1)\n",
    "else:\n",
    "    print(0)"
   ]
  },
  {
   "cell_type": "code",
   "execution_count": null,
   "metadata": {
    "colab": {
     "base_uri": "https://localhost:8080/"
    },
    "executionInfo": {
     "elapsed": 243,
     "status": "ok",
     "timestamp": 1652604317492,
     "user": {
      "displayName": "성용제",
      "userId": "10556121159126770650"
     },
     "user_tz": -540
    },
    "id": "b6a7082f",
    "outputId": "ca7a940a-6ee0-42c6-81c8-60bf0ff430a6"
   },
   "outputs": [
    {
     "name": "stdout",
     "output_type": "stream",
     "text": [
      "14960\n"
     ]
    }
   ],
   "source": [
    "print(len(arr_re))"
   ]
  },
  {
   "cell_type": "code",
   "execution_count": null,
   "metadata": {
    "colab": {
     "base_uri": "https://localhost:8080/"
    },
    "executionInfo": {
     "elapsed": 435,
     "status": "ok",
     "timestamp": 1652514949266,
     "user": {
      "displayName": "성용제",
      "userId": "10556121159126770650"
     },
     "user_tz": -540
    },
    "id": "f1097679",
    "outputId": "d186618e-4525-4ae4-df00-9801ef17ef78"
   },
   "outputs": [
    {
     "data": {
      "text/plain": [
       "array([1.10173153e+00, 1.10173153e+00, 1.10173153e+00, ...,\n",
       "       2.29279703e-06, 4.28097792e-06, 2.11804709e-05])"
      ]
     },
     "execution_count": 158,
     "metadata": {},
     "output_type": "execute_result"
    }
   ],
   "source": [
    "padded_np = np.array(arr_re)\n",
    "padded_np"
   ]
  },
  {
   "cell_type": "code",
   "execution_count": null,
   "metadata": {
    "id": "735e5ee4"
   },
   "outputs": [],
   "source": [
    "b = padded_np.reshape(1, 80, 520)"
   ]
  },
  {
   "cell_type": "code",
   "execution_count": null,
   "metadata": {
    "colab": {
     "base_uri": "https://localhost:8080/"
    },
    "executionInfo": {
     "elapsed": 412,
     "status": "ok",
     "timestamp": 1652514966190,
     "user": {
      "displayName": "성용제",
      "userId": "10556121159126770650"
     },
     "user_tz": -540
    },
    "id": "1211bc8d",
    "outputId": "e3f3b92a-54d9-4d6d-9ab2-f4df96f00dce"
   },
   "outputs": [
    {
     "data": {
      "text/plain": [
       "(1, 80, 520, 1)"
      ]
     },
     "execution_count": 160,
     "metadata": {},
     "output_type": "execute_result"
    }
   ],
   "source": [
    "re_np = np.expand_dims(b, -1)\n",
    "re_np.shape"
   ]
  },
  {
   "cell_type": "code",
   "execution_count": null,
   "metadata": {
    "colab": {
     "base_uri": "https://localhost:8080/"
    },
    "executionInfo": {
     "elapsed": 545,
     "status": "ok",
     "timestamp": 1652514969922,
     "user": {
      "displayName": "성용제",
      "userId": "10556121159126770650"
     },
     "user_tz": -540
    },
    "id": "2a1ce9d7",
    "outputId": "8d78d988-51da-474d-933a-59a06f197029"
   },
   "outputs": [
    {
     "data": {
      "text/plain": [
       "array([[1.]], dtype=float32)"
      ]
     },
     "execution_count": 161,
     "metadata": {},
     "output_type": "execute_result"
    }
   ],
   "source": [
    "pred = model2.predict(re_np)\n",
    "pred"
   ]
  },
  {
   "cell_type": "code",
   "execution_count": null,
   "metadata": {
    "colab": {
     "base_uri": "https://localhost:8080/"
    },
    "executionInfo": {
     "elapsed": 6,
     "status": "ok",
     "timestamp": 1652515574772,
     "user": {
      "displayName": "성용제",
      "userId": "10556121159126770650"
     },
     "user_tz": -540
    },
    "id": "bb5b1bf0",
    "outputId": "77ae8634-8ce5-4fb5-a689-a10cebf9c66c"
   },
   "outputs": [
    {
     "data": {
      "text/plain": [
       "1.0"
      ]
     },
     "execution_count": 162,
     "metadata": {},
     "output_type": "execute_result"
    }
   ],
   "source": [
    "np.round(pred)[0][0]"
   ]
  },
  {
   "cell_type": "code",
   "execution_count": null,
   "metadata": {
    "id": "27f38328"
   },
   "outputs": [],
   "source": [
    "count = 0\n",
    "count_less = 0\n",
    "count_more = 0\n",
    "count_less2 = 0\n",
    "count_more2 = 0\n",
    "for path in all_audio_path:\n",
    "    y, sr = librosa.load(path)\n",
    "    n_fft = int(np.ceil(0.025 * sr))\n",
    "    win_length = int(np.ceil(0.025 * sr))\n",
    "    hop_length = int(np.ceil(0.01 * sr))\n",
    "\n",
    "    S = librosa.feature.melspectrogram(y=y, sr=sr, n_mels=40, win_length=win_length, hop_length=hop_length, n_fft=n_fft)\n",
    "\n",
    "    arr_df = []\n",
    "    arr_df.append(list(itertools.chain(*S)))\n",
    "\n",
    "    l = len(arr_df[0])\n",
    "\n",
    "    arr_re = []\n",
    "\n",
    "    avg = sum(arr_df[0])/l\n",
    "  \n",
    "    if l < 14960:\n",
    "        count_less += 1\n",
    "        for i in range(l):\n",
    "              arr_re.append(arr_df[0][i])\n",
    "        for i in range(14960-l):\n",
    "              arr_re.append(avg)\n",
    "        padded_np = np.array(arr_re)\n",
    "\n",
    "        b = padded_np.reshape(1, 40, 374)\n",
    "\n",
    "        re_np = np.expand_dims(b, -1)\n",
    "\n",
    "        pred = model2.predict(re_np)\n",
    "\n",
    "        if np.round(pred)[0][0] > 0.1:\n",
    "            count_less2 += 1\n",
    "    else:\n",
    "    count_more += 1\n",
    "    pred_now = 0\n",
    "    idx = l//14960\n",
    "    for i in range(idx):\n",
    "        arr_re = []\n",
    "        for j in range(i*14960,(i+1)*14960):\n",
    "        arr_re.append(arr_df[0][j])\n",
    "        padded_np = np.array(arr_re)\n",
    "\n",
    "        b = padded_np.reshape(1, 40, 374)\n",
    "\n",
    "        re_np = np.expand_dims(b, -1)\n",
    "\n",
    "        pred = model2.predict(re_np)\n",
    "        pred_now += np.round(pred)[0][0]\n",
    "    \n",
    "    if l%14960 !=0:\n",
    "        arr_re = []\n",
    "        for i in range(idx*14960,l):\n",
    "            arr_re.append(arr_df[0][i])\n",
    "        for i in range(14960-l%14960):\n",
    "            arr_re.append(avg)\n",
    "        padded_np = np.array(arr_re)\n",
    "\n",
    "        b = padded_np.reshape(1, 40, 374)\n",
    "\n",
    "        re_np = np.expand_dims(b, -1)\n",
    "\n",
    "        pred = model2.predict(re_np)\n",
    "        pred_now += np.round(pred)[0][0]\n",
    "\n",
    "    if pred_now > 0.1:\n",
    "        count_more2 += 1\n",
    "\n",
    "  # print(np.round(pred)[0][0])"
   ]
  },
  {
   "cell_type": "code",
   "execution_count": null,
   "metadata": {
    "colab": {
     "base_uri": "https://localhost:8080/"
    },
    "executionInfo": {
     "elapsed": 5,
     "status": "ok",
     "timestamp": 1652518222625,
     "user": {
      "displayName": "성용제",
      "userId": "10556121159126770650"
     },
     "user_tz": -540
    },
    "id": "7e0f726b",
    "outputId": "3b02c5fb-319a-48e9-9e17-7abfa04a0011"
   },
   "outputs": [
    {
     "name": "stdout",
     "output_type": "stream",
     "text": [
      "0.8564954682779456 0.5158150851581509 0.7260018639328985\n"
     ]
    }
   ],
   "source": [
    "print(count_less2 / count_less, count_more2 / count_more, (count_more2 + count_less2) / ( count_less + count_more))"
   ]
  }
 ],
 "metadata": {
  "colab": {
   "name": "AI_Clerk-version4.ipynb",
   "provenance": []
  },
  "interpreter": {
   "hash": "2858cd4b6c7af27ef9420d7b9c791b223b2a29c61f54d694d4b24ac49e89b72a"
  },
  "kernelspec": {
   "display_name": "Python 3",
   "language": "python",
   "name": "python3"
  },
  "language_info": {
   "codemirror_mode": {
    "name": "ipython",
    "version": 3
   },
   "file_extension": ".py",
   "mimetype": "text/x-python",
   "name": "python",
   "nbconvert_exporter": "python",
   "pygments_lexer": "ipython3",
   "version": "3.8.5"
  }
 },
 "nbformat": 4,
 "nbformat_minor": 5
}
